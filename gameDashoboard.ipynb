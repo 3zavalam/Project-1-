{
 "cells": [
  {
   "cell_type": "markdown",
   "metadata": {},
   "source": [
    "### Imports"
   ]
  },
  {
   "cell_type": "code",
   "execution_count": null,
   "metadata": {},
   "outputs": [],
   "source": [
    "# Scrap \n",
    "import requests\n",
    "import ScraperFC as sfs\n",
    "\n",
    "# Data Managment \n",
    "import pandas as pd\n",
    "import numpy as np\n",
    "\n",
    "# Viz\n",
    "from mplsoccer import Pitch, VerticalPitch\n",
    "import matplotlib.pyplot as plt \n",
    "\n",
    "# Others\n",
    "import os \n",
    "from PIL import Image\n",
    "from io import BytesIO\n",
    "import tweepy"
   ]
  },
  {
   "cell_type": "code",
   "execution_count": null,
   "metadata": {},
   "outputs": [],
   "source": [
    "# Fonts and colors \n",
    "from matplotlib import font_manager\n",
    "locations = ['/Users/emilio/Documents/3- Resources/lightstats/fonts/Montserrat']\n",
    "font_files = font_manager.findSystemFonts(fontpaths=locations)\n",
    "for file in font_files:\n",
    "    font_manager.fontManager.addfont(file)\n",
    "font = 'Montserrat'\n",
    "\n",
    "# Define the colors using hexadecimal representations\n",
    "background_color = '#F7F7F7' \n",
    "title_color = '#000000'   \n",
    "text_color = '#333333'  \n",
    "sub_text_color = '#808080'   \n",
    "accent_color1 = '#4682B4'    \n",
    "accent_color2 = '#ADD8E6' "
   ]
  },
  {
   "cell_type": "markdown",
   "metadata": {},
   "source": [
    "### Scrap info"
   ]
  },
  {
   "cell_type": "code",
   "execution_count": null,
   "metadata": {},
   "outputs": [],
   "source": [
    "# Scrap sofascore\n",
    "sofascore = sfs.Sofascore()\n",
    "\n",
    "sofascore_url = 'https://www.sofascore.com/granada-real-madrid/EgbsEAn#id:11368634'\n",
    "sofascore_url = sofascore_url.replace('id:', '')\n",
    "\n",
    "\n",
    "# Scrap fotmob\n",
    "fotmob_url = 'https://www.fotmob.com/api/matchDetails?matchId=4205687'\n",
    "\n",
    "payload = {}\n",
    "headers = {}\n",
    "\n",
    "response = requests.request(\"GET\", fotmob_url, headers=headers, data=payload)\n",
    "data = response.json()\n",
    "\n",
    "# print(response.text) Imprime el html"
   ]
  },
  {
   "cell_type": "markdown",
   "metadata": {},
   "source": [
    "### DataFrames"
   ]
  },
  {
   "cell_type": "code",
   "execution_count": null,
   "metadata": {},
   "outputs": [],
   "source": [
    "# DataFrames of shots and data stats\n",
    "dfShots = pd.DataFrame(response.json()['content']['shotmap']['shots'])\n",
    "df_matchStats = sofascore.get_general_match_stats(sofascore_url)"
   ]
  },
  {
   "cell_type": "markdown",
   "metadata": {},
   "source": [
    "### Game Data"
   ]
  },
  {
   "cell_type": "code",
   "execution_count": null,
   "metadata": {},
   "outputs": [],
   "source": [
    "# Translate the rounds to spanish \n",
    "round = data['general']['leagueRoundName']\n",
    "round = round.replace('Round of 16', 'Octavos de Final')\n",
    "round = round.replace('Round', 'Jornada')\n",
    "round = round.replace('Semi-Finals', 'Semifinal')\n",
    "round = round.replace('Quarter-Finals', 'Cuartos de Final')\n",
    "\n",
    "match_time = data['general']['matchTimeUTC']\n",
    "season = data['general']['parentLeagueSeason']\n",
    "score = data['header']['status']['scoreStr']\n",
    "pen_flag = data['header']['status']['reason']['short']\n",
    "league = sofascore.get_match_data(sofascore_url)['tournament']['uniqueTournament']['name']\n",
    "\n",
    "if pen_flag == 'Pen':\n",
    "    away_penalties = data['header']['status']['reason']['penalties'][1]\n",
    "    home_penalties = data['header']['status']['reason']['penalties'][0]"
   ]
  },
  {
   "cell_type": "markdown",
   "metadata": {},
   "source": [
    "### Team's Data"
   ]
  },
  {
   "cell_type": "code",
   "execution_count": null,
   "metadata": {},
   "outputs": [],
   "source": [
    "# Check if 'general' key exists in the response\n",
    "home_name = data['header']['teams'][0]['name']\n",
    "home_id = data['header']['teams'][0]['id']\n",
    "home_color = dfShots[dfShots['teamId'] == home_id]['teamColor'].iloc[0]\n",
    "home_img_url = data['header']['teams'][0]['imageUrl']\n",
    "\n",
    "away_name = data['header']['teams'][1]['name']\n",
    "away_id = data['header']['teams'][1]['id']\n",
    "away_color = dfShots[dfShots['teamId'] == away_id]['teamColor'].iloc[0]\n",
    "away_img_url = data['header']['teams'][1]['imageUrl']"
   ]
  },
  {
   "cell_type": "code",
   "execution_count": null,
   "metadata": {},
   "outputs": [],
   "source": [
    "\"\"\" Get if the colors are similar \"\"\"\n",
    "\n",
    "def get_rgb(color):\n",
    "    \"\"\"Converts a hex color to an RGB tuple.\"\"\"\n",
    "    color = int(color[1:], 16)\n",
    "    r = color >> 16\n",
    "    g = (color - (r << 16)) >> 8\n",
    "    b = color - (r << 16) - (g << 8)\n",
    "    return [r, g, b]\n",
    "\n",
    "def is_similar(color1, color2):\n",
    "    \"\"\"Checks if two colors are similar.\"\"\"\n",
    "    r1, g1, b1 = get_rgb(color1)\n",
    "    r2, g2, b2 = get_rgb(color2)\n",
    "    return (abs(r1 - r2) + abs(g1 - g2) + abs(b1 - b2)) < 50\n",
    "\n",
    "\n",
    "if is_similar(home_color, away_color):\n",
    "    home_color = '#FF0000'\n",
    "    away_color = '#0000ff'"
   ]
  },
  {
   "cell_type": "markdown",
   "metadata": {},
   "source": [
    "### Team's Stats"
   ]
  },
  {
   "cell_type": "code",
   "execution_count": null,
   "metadata": {},
   "outputs": [],
   "source": [
    "# Extracting the 'stats' dictionary from the 'expected_goals_stats' dictionary\n",
    "expected_goals_stats = data['content']['stats']['Periods']['All']['stats'][2]['stats'][1]\n",
    "# Extracting the array of expected goals values from the 'expected_goals_stats' dictionary\n",
    "expected_goals_array = expected_goals_stats['stats']\n",
    "\n",
    "# List of all stats wanted\n",
    "all_stats = ['xG', 'Possesion', 'Shots', 'Fouls', 'Big Chances']\n",
    "\n",
    "# Home and Away data\n",
    "home_data = {\n",
    "    'xG': float(expected_goals_array[0]),\n",
    "    'Possesion': float(df_matchStats[df_matchStats['name'] == 'Ball possession']['homeValue'].iloc[0]),\n",
    "    'Shots': int(df_matchStats[df_matchStats['name'] == 'Total shots']['home'].iloc[0]),\n",
    "    'Fouls': int(df_matchStats[df_matchStats['name'] == 'Fouls']['home'].iloc[0]),\n",
    "    'Big Chances': float(df_matchStats[df_matchStats['name'] == 'Big chances']['home'].iloc[0])\n",
    "}\n",
    "away_data = {\n",
    "    'xG': float(expected_goals_array[1]),\n",
    "    'Possesion': float(df_matchStats[df_matchStats['name'] == 'Ball possession']['awayValue'].iloc[0]),\n",
    "    'Shots': int(df_matchStats[df_matchStats['name'] == 'Total shots']['away'].iloc[0]),\n",
    "    'Fouls': int(df_matchStats[df_matchStats['name'] == 'Fouls']['away'].iloc[0]),\n",
    "    'Big Chances': float(df_matchStats[df_matchStats['name'] == 'Big chances']['away'].iloc[0])\n",
    "}"
   ]
  },
  {
   "cell_type": "markdown",
   "metadata": {},
   "source": [
    "### Shotmap"
   ]
  },
  {
   "cell_type": "code",
   "execution_count": null,
   "metadata": {},
   "outputs": [],
   "source": [
    "# Filter Home and Away shots\n",
    "home_shots = dfShots[dfShots['teamId'] == home_id]\n",
    "away_shots = dfShots[dfShots['teamId'] == away_id]\n",
    "\n",
    "# Home and Away goals\n",
    "home_goal_shots = home_shots[home_shots['eventType'] == 'Goal']\n",
    "away_goal_shots = away_shots[away_shots['eventType'] == 'Goal']\n",
    "\n",
    "# Home and Away non-goals\n",
    "home_non_goal_shots = home_shots[home_shots['eventType'] != 'Goal']\n",
    "away_non_goal_shots = away_shots[away_shots['eventType'] != 'Goal']"
   ]
  },
  {
   "cell_type": "markdown",
   "metadata": {},
   "source": [
    "### POM Stats"
   ]
  },
  {
   "cell_type": "code",
   "execution_count": null,
   "metadata": {},
   "outputs": [],
   "source": [
    "# Fotmob POM DataFrame\n",
    "dfPom = data['content']['matchFacts']['playerOfTheMatch']\n",
    "\n",
    "# Extract the player of the match details\n",
    "pom_stats = dfPom['stats']\n",
    "pomFM = dfPom['name']['fullName']\n",
    "pom_position = dfPom['role']\n",
    "pom_id = dfPom['id']\n",
    "pom_team = dfPom['teamName']\n",
    "pom_img_url = f'https://images.fotmob.com/image_resources/playerimages/{pom_id}.png'\n",
    "\n",
    "# Initialize empty lists to store the keys and values for plotting\n",
    "keys = []\n",
    "values = []\n",
    "\n",
    "# Stats depending on positions \n",
    "positions = ['Keeper', 'Defender', 'Midfielder', 'Attacker']\n",
    "attackerKeys = ['Goals', 'Assist', 'Total shots','Expected goals (xG)', 'Shot accuracy', 'Successful dribbles', 'xG Non-penalty']\n",
    "midfielderKeys = ['Goals', 'Assists', 'Expected assists (xA)', 'Accurate passes', 'Chances created', 'Accurate long balls', 'Passes into final third', 'Successful dribbles']\n",
    "defenderKeys = ['Tackles won', 'Blocks', 'Recoveries', 'Interceptions', 'Clearances']\n",
    "keeperKeys = ['Clearances', 'Recoveries', 'Defensive actions']\n",
    "\n",
    "# Define a dictionary to map positions to keys\n",
    "position_keys_mapping = {\n",
    "    'Keeper': keeperKeys,\n",
    "    'Defender': defenderKeys,\n",
    "    'Midfielder': midfielderKeys,\n",
    "    'Attacker': attackerKeys\n",
    "}\n",
    "\n",
    "# Extracts and converts specific statistics from a dataset based on a given position.\n",
    "if pom_position in positions:\n",
    "    selected_keys = position_keys_mapping[pom_position]\n",
    "    print(\"Selected keys:\", selected_keys)  # Debugging statement\n",
    "\n",
    "    # Iterate over the stats dictionary to extract the specified keys and values\n",
    "    for stat_group in pom_stats:\n",
    "        # Check if the title matches the desired titles\n",
    "        if stat_group['title'] in ['Top stats', 'Attack', 'Defense']:\n",
    "            # Extract the 'stats' dictionary\n",
    "            stats_dict = stat_group['stats']\n",
    "            \n",
    "            # Iterate over the keys and store the values for specified keys\n",
    "            for key in selected_keys:\n",
    "                if key in stats_dict:\n",
    "                    keys.append(key)\n",
    "                    # Convert value to a numeric type\n",
    "                    value = stats_dict[key]['stat']['value']\n",
    "                    print(\"Value for\", key, \":\", value)  # Debugging statement\n",
    "                    if isinstance(value, str) and '/' in value:  # Handling cases like '28/40 (70%)'\n",
    "                        value = float(value.split('/')[0])  # Extracting the numerator as a float\n",
    "                    else:\n",
    "                        value = float(value)  # Convert to float if possible\n",
    "\n",
    "                    values.append(value)"
   ]
  },
  {
   "cell_type": "markdown",
   "metadata": {},
   "source": [
    "### Momentum"
   ]
  },
  {
   "cell_type": "code",
   "execution_count": null,
   "metadata": {},
   "outputs": [],
   "source": [
    "# Match Momentum DataFrame \n",
    "match_momentum = sofascore.match_momentum(sofascore_url)\n",
    "\n",
    "# Home and Away Match Momentum (df)\n",
    "match_momentum_home = match_momentum[match_momentum['value'] > 0]\n",
    "match_momentum_visit = match_momentum[match_momentum['value'] < 0]"
   ]
  },
  {
   "cell_type": "markdown",
   "metadata": {},
   "source": [
    "### Dashboard"
   ]
  },
  {
   "cell_type": "code",
   "execution_count": null,
   "metadata": {},
   "outputs": [],
   "source": [
    "\"\"\" Dashboard including the shots, match momentum, etc \"\"\"\n",
    "fig = plt.figure(figsize=(16, 9), constrained_layout=True)\n",
    "gs = fig.add_gridspec(nrows=6, ncols=9)\n",
    "fig.set_facecolor(background_color)\n",
    "\n",
    "# Plotting Game Data\n",
    "ax1 = fig.add_subplot(gs[0, 1:7])\n",
    "if pen_flag == 'Pen':\n",
    "    ax1.text(0.5, 0.70, f'{home_name} ({home_penalties}) {score} ({away_penalties}) {away_name}', weight='bold', fontsize=25, ha='center', fontfamily=font, color=title_color)\n",
    "else:\n",
    "    ax1.text(0.5, 0.70, f'{home_name} {score} {away_name}', weight='bold', fontsize=30, ha='center', fontfamily=font, color=title_color)\n",
    "ax1.text(0.5, 0.25, f'{league}: {round}', fontsize=15, ha='center', fontfamily=font, color=sub_text_color)\n",
    "ax1.axis(False)\n",
    "\n",
    "# Fetch and plot the home team image\n",
    "ax10 = fig.add_subplot(gs[0, :1])\n",
    "response = requests.get(home_img_url)\n",
    "img_data = Image.open(BytesIO(response.content))\n",
    "ax10.imshow(img_data)\n",
    "ax10.axis(False)\n",
    "\n",
    "# Fetch and plot the away team image\n",
    "ax11 = fig.add_subplot(gs[0, 7:8])\n",
    "response = requests.get(away_img_url)\n",
    "img_data = Image.open(BytesIO(response.content))\n",
    "ax11.imshow(img_data)\n",
    "ax11.axis(False)\n",
    "\n",
    "# Plotting Game Stats\n",
    "ax2 = fig.add_subplot(gs[1:3, :3])  \n",
    "# Crear la figura y los subgráficos dentro de ax2\n",
    "axs = [ax2]  # Utilizar una lista para axs para que coincida con la estructura existente\n",
    "# Bucle sobre todas las estadísticas\n",
    "for i, stat in enumerate(all_stats):\n",
    "    # Calcular la suma total de la estadística\n",
    "    total_stat = home_data[stat] + away_data[stat]\n",
    "    \n",
    "    # Calcular los porcentajes de contribución del equipo home y visitante\n",
    "    porcentaje_home = home_data[stat] / total_stat\n",
    "    porcentaje_visitante = away_data[stat] / total_stat\n",
    "    \n",
    "    # Crear la barra horizontal con dos colores\n",
    "    ax2.barh(i, porcentaje_home, color=home_color, height=0.5)\n",
    "    ax2.barh(i, porcentaje_visitante, color=away_color, left=porcentaje_home, height=0.5)\n",
    "    \n",
    "    # Añadir el valor numérico para el equipo home y visitante\n",
    "    ax2.text(0.1, i, f'{home_data[stat]}', fontsize=14, ha='center', va='center', color='white', fontfamily=font)\n",
    "    ax2.text(0.9, i, f'{away_data[stat]}', fontsize=14, ha='center', va='center', color='white', fontfamily=font)\n",
    "    ax2.text(0.5, i, stat, fontsize=14, ha='center', va='center', color='white', fontfamily=font)\n",
    "ax2.axis(False)\n",
    "\n",
    "ax3 = fig.add_subplot(gs[1:3, 3:8])\n",
    "\n",
    "# Plot the home and away match momentum\n",
    "ax3.bar(match_momentum_home.minute, match_momentum_home.value, color=home_color)\n",
    "ax3.bar(match_momentum_visit.minute, match_momentum_visit.value, color=away_color)\n",
    "\n",
    "# Add text annotations for minutes 1, 46, 90, and 120 if they exist\n",
    "lowest_value = min(match_momentum_home.value.min(), match_momentum_visit.value.min())\n",
    "ax3.text(1, lowest_value - 5, '0\\'', ha='right', va='center', weight='bold', fontfamily=font, color=text_color)\n",
    "ax3.text(46, lowest_value - 5, 'HT', ha='center', va='center', weight='bold', fontfamily=font, color=text_color)\n",
    "ax3.text(90, lowest_value - 5, \"90'\", ha='center', va='center', weight='bold', fontfamily=font, color=text_color)\n",
    "\n",
    "# Check if the 120th minute exists and plot it if it does\n",
    "if 120 in match_momentum_home.minute.values or 120 in match_momentum_visit.minute.values:\n",
    "    ax3.text(120, lowest_value - 5, \"120'\", ha='center', va='center', weight='bold', fontfamily=font, color=text_color)\n",
    "\n",
    "# Set the title and hide axis\n",
    "ax3.set_title('Match Momentum', weight='bold')\n",
    "ax3.axis(False)\n",
    "\n",
    "\n",
    "ax4 = fig.add_subplot(gs[3:6, :3])\n",
    "y_start = 0.6\n",
    "# Plot the name and position\n",
    "ax4.text(0.3, 0.8, f'{pom_name}', weight='bold', fontsize=20, fontfamily=font, color=text_color)\n",
    "ax4.text(0.3, 0.75, f'{pom_position}, {pom_team}', fontsize=10, fontfamily=font, color=text_color)\n",
    "# Iterate over keys and values to plot them horizontally\n",
    "for i, (key, value) in enumerate(zip(keys, values)):\n",
    "    # Calculate x-coordinate for the current key-value pair\n",
    "    x_key = 0\n",
    "    x_value = 0.6\n",
    "    # Calculate y-coordinate for the current key-value pair\n",
    "    y = y_start - i * 0.1\n",
    "    # Make the key bold and plot it\n",
    "    ax4.text(x_key, y, f'{key}:', fontsize=12, fontfamily=font, color=text_color)\n",
    "    # Plot the value\n",
    "    ax4.text(x_value, y, f'{value}', fontsize=12, weight= 'bold', fontfamily=font, color=text_color)\n",
    "ax4.axis(False)\n",
    "\n",
    "ax5 = fig.add_subplot(gs[3:4, :1])\n",
    "response = requests.get(pom_img_url)\n",
    "img_data = Image.open(BytesIO(response.content))\n",
    "ax5.imshow(img_data)\n",
    "ax5.axis(False)\n",
    "\n",
    "ax6 = fig.add_subplot(gs[3:, 3:8])\n",
    "ax6.text(26.25, 5,f'{home_name} shots', color=home_color, ha='center', fontsize=12, fontfamily=font)\n",
    "ax6.text(78.75, 5,f'{away_name} shots', color=away_color, ha='center', fontsize=12, fontfamily=font)\n",
    "pitch = Pitch(pitch_type='custom', pitch_length=105, pitch_width=68)\n",
    "pitch.draw(ax=ax6)\n",
    "if not home_goal_shots.empty:\n",
    "    pitch.scatter(105-home_goal_shots.x, 68-home_goal_shots.y, ax=ax6, marker='football', s=200)\n",
    "if not away_goal_shots.empty:\n",
    "    pitch.scatter(away_goal_shots.x, away_goal_shots.y, ax=ax6, marker='football', s=200)\n",
    "if not home_non_goal_shots.empty:\n",
    "    pitch.scatter(105-home_non_goal_shots.x, 68-home_non_goal_shots.y, ax=ax6, alpha=0.6, label=home_name, color=home_color)\n",
    "if not away_non_goal_shots.empty:\n",
    "    pitch.scatter(away_non_goal_shots.x, away_non_goal_shots.y, ax=ax6, alpha=0.6, label=away_name, color=away_color)\n",
    "#ax6.legend(loc='lower left')\n",
    "ax6.axis(False)\n",
    "\n",
    "fig.text(.63, 0.01, \"Made by: @3zavalam     |    Data: SofaScore y FotMob\", fontsize=10, ha='center', fontfamily=font, color=text_color)\n",
    "\n",
    "# Replace \"/\" with \"-\" in the season string\n",
    "season = season.replace(\"/\", \"-\")\n",
    "# Create the directory path\n",
    "directory = os.path.join(\"output\", \"games\", league, season, round)\n",
    "# Check if the directory exists, if not, create it\n",
    "if not os.path.exists(directory):\n",
    "    os.makedirs(directory)\n",
    "# Define the file path\n",
    "file_path_game = os.path.join(directory, f\"{home_name}_{round}_{season}_{away_name}.png\")\n",
    "plt.savefig(file_path_game)\n",
    "\n",
    "plt.close()\n",
    "print(f\"Figure saved at: {file_path_game}\")"
   ]
  },
  {
   "cell_type": "markdown",
   "metadata": {},
   "source": [
    "### Twitter"
   ]
  },
  {
   "cell_type": "code",
   "execution_count": null,
   "metadata": {},
   "outputs": [],
   "source": [
    "def tweet(file_path, text):\n",
    "        auth = tweepy.OAuthHandler(api_key, api_secret)\n",
    "        auth.set_access_token(access_token, access_token_secret)\n",
    "        api = tweepy.API(auth, wait_on_rate_limit=True)\n",
    "\n",
    "        # V2 Twitter API Authentication\n",
    "        client = tweepy.Client(\n",
    "            bearer_token,\n",
    "            api_key,\n",
    "            api_secret,\n",
    "            access_token,\n",
    "            access_token_secret,\n",
    "            wait_on_rate_limit=True,\n",
    "        )\n",
    "\n",
    "        media_id = api.media_upload(filename=file_path).media_id_string\n",
    "        client.create_tweet(text=text, media_ids=[media_id])\n",
    "        print(\"Tweeted!\")"
   ]
  },
  {
   "cell_type": "code",
   "execution_count": null,
   "metadata": {},
   "outputs": [],
   "source": [
    "if 'Liga' in league or 'CONMEBOL' in league or 'CONCACAF' in league:\n",
    "    tweet_text = (f\"Estadisticas {home_name} vs {away_name}\\n{league} - {round}\")\n",
    "\n",
    "else:\n",
    "    tweet_text = (f\"Statistics {home_name} vs {away_name}\\n{league} - {round}\")"
   ]
  },
  {
   "cell_type": "code",
   "execution_count": null,
   "metadata": {},
   "outputs": [],
   "source": [
    "tweet(file_path=file_path_game, text=tweet_text)"
   ]
  }
 ],
 "metadata": {
  "kernelspec": {
   "display_name": "Python 3",
   "language": "python",
   "name": "python3"
  },
  "language_info": {
   "codemirror_mode": {
    "name": "ipython",
    "version": 3
   },
   "file_extension": ".py",
   "mimetype": "text/x-python",
   "name": "python",
   "nbconvert_exporter": "python",
   "pygments_lexer": "ipython3",
   "version": "3.12.2"
  }
 },
 "nbformat": 4,
 "nbformat_minor": 2
}
