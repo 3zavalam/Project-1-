{
 "cells": [
  {
   "cell_type": "markdown",
   "metadata": {},
   "source": [
    "### Imports"
   ]
  },
  {
   "cell_type": "code",
   "execution_count": 44,
   "metadata": {},
   "outputs": [],
   "source": [
    "import requests \n",
    "import json \n",
    "import pandas as pd\n",
    "from bs4 import BeautifulSoup\n",
    "from mplsoccer import Pitch, VerticalPitch\n",
    "import numpy as np\n",
    "from matplotlib.offsetbox import OffsetImage\n",
    "import matplotlib.pyplot as plt\n",
    "import matplotlib.gridspec as gridspec\n",
    "import matplotlib.image as mpimg\n",
    "from matplotlib.patches import ConnectionPatch\n",
    "import os\n",
    "\n",
    "import urllib.request\n",
    "from PIL import Image\n",
    "\n",
    "import ScraperFC as sfs\n",
    "from io import BytesIO\n",
    "\n",
    "# Importing twitter keys\n",
    "import tweepy\n",
    "import sys\n",
    "sys.path.append('/Users/emilio/Documents/1- Projects/dataAnalyst/football/data/twitter_bot')\n",
    "from keys import api_key, api_secret, access_token, access_token_secret, bearer_token "
   ]
  },
  {
   "cell_type": "code",
   "execution_count": 45,
   "metadata": {},
   "outputs": [],
   "source": [
    "# Fonts and colors \n",
    "from matplotlib import font_manager\n",
    "locations = ['/Users/emilio/Documents/3- Resources/lightstats/fonts/Montserrat']\n",
    "font_files = font_manager.findSystemFonts(fontpaths=locations)\n",
    "for file in font_files:\n",
    "    font_manager.fontManager.addfont(file)\n",
    "font = 'Montserrat'\n",
    "\n",
    "# Define the colors using hexadecimal representations\n",
    "background_color = '#F7F7F7' \n",
    "title_color = '#000000'   \n",
    "text_color = '#333333'  \n",
    "sub_text_color = '#808080'   \n",
    "accent_color1 = '#4682B4'    \n",
    "accent_color2 = '#ADD8E6' "
   ]
  },
  {
   "cell_type": "markdown",
   "metadata": {},
   "source": [
    "### Scrap info"
   ]
  },
  {
   "cell_type": "code",
   "execution_count": 46,
   "metadata": {},
   "outputs": [],
   "source": [
    "# Scrap sofascore\n",
    "sofascore = sfs.Sofascore()\n",
    "\n",
    "\n",
    "sofascore_url = 'https://www.sofascore.com/real-madrid-fc-bayern-munchen/xdbsEgb#id:12173506'\n",
    "sofascore_url = sofascore_url.replace('id:', '')\n",
    "\n",
    "\n",
    "# Scrap fotmob\n",
    "fotmob_url = 'https://www.fotmob.com/api/matchDetails?matchId=4446289'\n",
    "\n",
    "payload = {}\n",
    "headers = {}\n",
    "\n",
    "response = requests.request(\"GET\", fotmob_url, headers=headers, data=payload)\n",
    "\n",
    "data = response.json()\n",
    "\n",
    "# print(response.text) Imprime el html"
   ]
  },
  {
   "cell_type": "markdown",
   "metadata": {},
   "source": [
    "### DataFrames"
   ]
  },
  {
   "cell_type": "code",
   "execution_count": 47,
   "metadata": {},
   "outputs": [],
   "source": [
    "dfShots = pd.DataFrame(response.json()['content']['shotmap']['shots'])\n",
    "df_matchStats = sofascore.get_general_match_stats(sofascore_url)"
   ]
  },
  {
   "cell_type": "markdown",
   "metadata": {},
   "source": [
    "### Team's Stats"
   ]
  },
  {
   "cell_type": "code",
   "execution_count": 48,
   "metadata": {},
   "outputs": [],
   "source": [
    "# Extracting the 'stats' dictionary from the 'expected_goals_stats' dictionary\n",
    "expected_goals_stats = data['content']['stats']['Periods']['All']['stats'][2]['stats'][1]\n",
    "# Extracting the array of expected goals values from the 'expected_goals_stats' dictionary\n",
    "expected_goals_array = expected_goals_stats['stats']\n",
    "\n",
    "\n",
    "# Lista de todas las estadísticas\n",
    "all_stats = ['xG', 'Possesion', 'Shots', 'Fouls', 'Big Chances']\n",
    "\n",
    "# Obtener los datos para el equipo local\n",
    "local_data = {\n",
    "    'xG': float(expected_goals_array[0]),\n",
    "    'Possesion': float(df_matchStats[df_matchStats['name'] == 'Ball possession']['homeValue'].iloc[0]),\n",
    "    'Shots': int(df_matchStats[df_matchStats['name'] == 'Total shots']['home'].iloc[0]),\n",
    "    'Fouls': int(df_matchStats[df_matchStats['name'] == 'Fouls']['home'].iloc[0]),\n",
    "    'Big Chances': float(df_matchStats[df_matchStats['name'] == 'Big chances']['home'].iloc[0])\n",
    "}\n",
    "\n",
    "# Obtener los datos para el equipo visitante\n",
    "away_data = {\n",
    "    'xG': float(expected_goals_array[1]),\n",
    "    'Possesion': float(df_matchStats[df_matchStats['name'] == 'Ball possession']['awayValue'].iloc[0]),\n",
    "    'Shots': int(df_matchStats[df_matchStats['name'] == 'Total shots']['away'].iloc[0]),\n",
    "    'Fouls': int(df_matchStats[df_matchStats['name'] == 'Fouls']['away'].iloc[0]),\n",
    "    'Big Chances': float(df_matchStats[df_matchStats['name'] == 'Big chances']['away'].iloc[0])\n",
    "}"
   ]
  },
  {
   "cell_type": "markdown",
   "metadata": {},
   "source": [
    "### Game Data"
   ]
  },
  {
   "cell_type": "code",
   "execution_count": 49,
   "metadata": {},
   "outputs": [],
   "source": [
    "round = data['general']['leagueRoundName']\n",
    "match_time = data['general']['matchTimeUTC']\n",
    "season = data['general']['parentLeagueSeason']\n",
    "score = data['header']['status']['scoreStr']\n",
    "pen_flag = data['header']['status']['reason']['short']\n",
    "league = sofascore.get_match_data(sofascore_url)['tournament']['uniqueTournament']['name']\n",
    "\n",
    "if pen_flag == 'Pen':\n",
    "    away_penalties = data['header']['status']['reason']['penalties'][1]\n",
    "    local_penalties = data['header']['status']['reason']['penalties'][0]"
   ]
  },
  {
   "cell_type": "markdown",
   "metadata": {},
   "source": [
    "### Team's Data"
   ]
  },
  {
   "cell_type": "code",
   "execution_count": 50,
   "metadata": {},
   "outputs": [],
   "source": [
    "# Check if 'general' key exists in the response\n",
    "local_name = data['header']['teams'][0]['name']\n",
    "local_id = data['header']['teams'][0]['id']\n",
    "local_color = dfShots[dfShots['teamId'] == local_id]['teamColor'].iloc[0]\n",
    "local_img_url = data['header']['teams'][0]['imageUrl']\n",
    "\n",
    "away_name = data['header']['teams'][1]['name']\n",
    "away_id = data['header']['teams'][1]['id']\n",
    "away_color = dfShots[dfShots['teamId'] == away_id]['teamColor'].iloc[0]\n",
    "away_img_url = data['header']['teams'][1]['imageUrl']\n",
    "\n",
    "\n",
    "team_data = {}\n",
    "\n",
    "# Function to populate team data\n",
    "def populate_team_data(team_id, data, df_shots):\n",
    "    team_index = 0 if team_id == data['header']['teams'][0]['id'] else 1\n",
    "    team_name = data['header']['teams'][team_index]['name']\n",
    "    team_color = df_shots[df_shots['teamId'] == team_id]['teamColor'].iloc[0]\n",
    "    team_img_url = data['header']['teams'][team_index]['imageUrl']\n",
    "    return team_name, team_color, team_img_url\n",
    "\n",
    "# Populate team data\n",
    "local_name, local_color, local_img_url = populate_team_data(local_id, data, dfShots)\n",
    "away_name, away_color, away_img_url = populate_team_data(away_id, data, dfShots)"
   ]
  },
  {
   "cell_type": "markdown",
   "metadata": {},
   "source": [
    "### Shotmap"
   ]
  },
  {
   "cell_type": "code",
   "execution_count": 51,
   "metadata": {},
   "outputs": [],
   "source": [
    "# Filtrar los disparos del equipo local y del equipo visitante\n",
    "local_shots = dfShots[dfShots['teamId'] == local_id]\n",
    "away_shots = dfShots[dfShots['teamId'] == away_id]\n",
    "\n",
    "# Filtrar los goles del equipo local y mostrarlos de manera diferente\n",
    "local_goal_shots = local_shots[local_shots['eventType'] == 'Goal']\n",
    "away_goal_shots = away_shots[away_shots['eventType'] == 'Goal']\n",
    "\n",
    "# Filtrar los disparos que no son goles del equipo local y mostrarlos con transparencia\n",
    "local_non_goal_shots = local_shots[local_shots['eventType'] != 'Goal']\n",
    "away_non_goal_shots = away_shots[away_shots['eventType'] != 'Goal']"
   ]
  },
  {
   "cell_type": "markdown",
   "metadata": {},
   "source": [
    "### Player shots"
   ]
  },
  {
   "cell_type": "markdown",
   "metadata": {},
   "source": [
    "#### Data"
   ]
  },
  {
   "cell_type": "code",
   "execution_count": 53,
   "metadata": {},
   "outputs": [
    {
     "name": "stdout",
     "output_type": "stream",
     "text": [
      "['Leroy Sané' 'Harry Kane' 'Jamal Musiala' 'Leon Goretzka' 'Eric Dier'\n",
      " 'Serge Gnabry']\n",
      "['Vinicius Junior' 'Rodrygo' 'Nacho Fernandez' 'Toni Kroos'\n",
      " 'Federico Valverde' 'Brahim Diaz']\n"
     ]
    }
   ],
   "source": [
    "\"\"\" Print the names of the player that shoot \"\"\"\n",
    "away_players_shooting = away_shots['playerName'].unique()\n",
    "local_players_shooting = local_shots['playerName'].unique()\n",
    "\n",
    "print(local_players_shooting)\n",
    "print(away_players_shooting)"
   ]
  },
  {
   "cell_type": "code",
   "execution_count": 54,
   "metadata": {},
   "outputs": [],
   "source": [
    "#player_name = 'Marcus Rashford'\n",
    "dfPom = data['content']['matchFacts']['playerOfTheMatch']\n",
    "pom_name = dfPom['name']['fullName']\n",
    "\n",
    "# If you want the shots of the POM use 'pom_name'\n",
    "player_shots = dfShots[dfShots['playerName'] == pom_name]\n",
    "\n",
    "player_goal_shots = player_shots[player_shots['eventType'] == 'Goal']\n",
    "player_non_goal_shots = player_shots[player_shots['eventType'] != 'Goal']"
   ]
  },
  {
   "cell_type": "code",
   "execution_count": 55,
   "metadata": {},
   "outputs": [],
   "source": [
    "playerId = str(player_shots['playerId'].unique()[0])\n",
    "player_img_url = f'https://images.fotmob.com/image_resources/playerimages/{playerId}.png'\n",
    "\n",
    "# Retrieve team data\n",
    "player_team_id = player_shots['teamId'].unique()[0]\n",
    "\n",
    "if player_team_id == local_id:\n",
    "    against_id = away_id\n",
    "    against_name, against_color, against_img_url = away_name, away_color, away_img_url\n",
    "elif player_team_id == away_id:\n",
    "    against_id = local_id\n",
    "    against_name, against_color, against_img_url = local_name, local_color, local_img_url"
   ]
  },
  {
   "cell_type": "markdown",
   "metadata": {},
   "source": [
    "#### Plot shots"
   ]
  },
  {
   "cell_type": "code",
   "execution_count": 56,
   "metadata": {},
   "outputs": [],
   "source": [
    "\"\"\" Shots of the Selected Player during a Match \"\"\"\n",
    "\n",
    "def playerShots(season): \n",
    "    pitch = VerticalPitch(pitch_type='custom', pitch_length=105, pitch_width=68, half=True, pitch_color=background_color)\n",
    "    fig, ax = pitch.draw()\n",
    "\n",
    "    fig.patch.set_facecolor(background_color)\n",
    "\n",
    "    if not player_goal_shots.empty:\n",
    "        pitch.scatter(player_goal_shots.x, player_goal_shots.y, ax=ax, marker='football', s=200)\n",
    "    if not player_non_goal_shots.empty:\n",
    "        pitch.scatter(player_non_goal_shots.x, player_non_goal_shots.y, ax=ax, alpha=0.6, color='black')\n",
    "\n",
    "    # Fetch and plot the local team image (logo)\n",
    "    response = requests.get(player_img_url)\n",
    "    img_data = Image.open(BytesIO(response.content))\n",
    "    ax_logo = fig.add_axes([0, 0.95, 0.1, 0.1])  # [x, y, Width, Height]\n",
    "    ax_logo.imshow(img_data)\n",
    "    ax_logo.axis(False)\n",
    "\n",
    "    fig.text(0.1, 1, f'{pom_name} shots vs {against_name}', fontsize=14, weight='bold', fontfamily=font, color=title_color)\n",
    "    fig.text(0.1, 0.95, f'{local_name} vs {away_name} | {round}', fontsize=12, fontfamily=font, color=sub_text_color)\n",
    "\n",
    "    fig.text(.25, 0.1, \"@3zavalam\", fontsize=10, ha='right', fontfamily=font, color=text_color)\n",
    "    fig.text(.75, 0.1, \" Data: SofaScore y FotMob\", fontsize=10, ha='center', fontfamily=font, color=text_color)\n",
    "\n",
    "    # Replace \"/\" with \"-\" in the season string\n",
    "    season = season.replace(\"/\", \"-\")\n",
    "    # Create the directory path\n",
    "    directory = os.path.join(\"output\", \"shots\", \"players\", league, season, round)\n",
    "    # Check if the directory exists, if not, create it\n",
    "    if not os.path.exists(directory):\n",
    "        os.makedirs(directory)\n",
    "    # Define the file path\n",
    "    file_path_player = os.path.join(directory, f\"{pom_name}_shots_vs_{against_name}.png\")\n",
    "    plt.savefig(file_path_player, bbox_inches='tight') \n",
    "    plt.close()\n",
    "\n",
    "    return file_path_player"
   ]
  },
  {
   "cell_type": "markdown",
   "metadata": {},
   "source": [
    "### Team Shots"
   ]
  },
  {
   "cell_type": "code",
   "execution_count": 57,
   "metadata": {},
   "outputs": [],
   "source": [
    "# Contar el número de own goals del equipo local y visitante\n",
    "away_own_goals_count = away_shots[away_shots['isOwnGoal'] == True]['isOwnGoal'].count()\n",
    "local_own_goals_count = local_shots[local_shots['isOwnGoal'] == True]['isOwnGoal'].count()\n",
    "\n",
    "# Restar el número de own goals del equipo contrario\n",
    "away_goals = (away_shots[away_shots['eventType'] == 'Goal']['eventType'].count() - away_own_goals_count) + local_own_goals_count\n",
    "local_goals = (local_shots[local_shots['eventType'] == 'Goal']['eventType'].count() - local_own_goals_count) + away_own_goals_count"
   ]
  },
  {
   "cell_type": "code",
   "execution_count": 58,
   "metadata": {},
   "outputs": [],
   "source": [
    "\"\"\" Shots of the Local team\"\"\"\n",
    "\n",
    "def localShots(season):\n",
    "    pitch = VerticalPitch(pitch_type='custom', pitch_length=105, pitch_width=68, half=True, pitch_color=background_color)\n",
    "    fig, ax = pitch.draw()\n",
    "\n",
    "    fig.patch.set_facecolor(background_color)\n",
    "\n",
    "    if not local_goal_shots.empty:\n",
    "        pitch.scatter(local_goal_shots.x, local_goal_shots.y, ax=ax, marker='football', s=200)\n",
    "    if not local_non_goal_shots.empty:\n",
    "        pitch.scatter(local_non_goal_shots.x, local_non_goal_shots.y, ax=ax, alpha=0.6, label=local_name, color=local_color)\n",
    "\n",
    "    # Fetch and plot the local team image (logo)\n",
    "    response = requests.get(local_img_url)\n",
    "    img_data = Image.open(BytesIO(response.content))\n",
    "    ax_logo = fig.add_axes([0, 0.95, 0.1, 0.1])  # [x, y, Width, Height]\n",
    "    ax_logo.imshow(img_data)\n",
    "    ax_logo.axis(False)\n",
    "\n",
    "    fig.text(0.1, 1, f'{local_name} shots vs {away_name}', fontsize=16, weight='bold', fontfamily=font, color=text_color)\n",
    "    fig.text(0.1, 0.95, f'{local_name} vs {away_name} | {round}', fontsize=13, fontfamily=font, color=sub_text_color)\n",
    "\n",
    "    fig.text(.25, 0.1, \"@3zavalam\", fontsize=10, ha='right', fontfamily=font, color=text_color)\n",
    "    fig.text(.75, 0.1, \" Data: SofaScore y FotMob\", fontsize=10, ha='center', fontfamily=font, color=text_color)\n",
    "\n",
    "    # Data about the shots\n",
    "    fig.text(.92, .6, f'{local_data['xG']}', fontsize=14, fontfamily=font, weight='bold', color=text_color)\n",
    "    fig.text(1, .6, 'xG', fontfamily=font, color=text_color, fontsize=14)\n",
    "\n",
    "    fig.text(.92, .5, f'{local_goals}', fontsize=14, fontfamily=font, weight='bold', color=text_color)\n",
    "    fig.text(1, .5, 'Goals', fontfamily=font, color=text_color, fontsize=14)\n",
    "\n",
    "    fig.text(.92, .4, f'{local_shots['eventType'].count()}', fontsize=14, fontfamily=font,  weight='bold', color=text_color)\n",
    "    fig.text(1, .4, 'Shots', fontfamily=font, color=text_color, fontsize=14)\n",
    "    \n",
    "    # Replace \"/\" with \"-\" in the season string\n",
    "    season = season.replace(\"/\", \"-\")\n",
    "    # Create the directory path\n",
    "    directory = os.path.join(\"output\", \"shots\", \"teams\", league, season, round)\n",
    "    # Check if the directory exists, if not, create it\n",
    "    if not os.path.exists(directory):\n",
    "        os.makedirs(directory)\n",
    "    # Define the file path\n",
    "    file_path_localShots = os.path.join(directory, f\"{local_name}_shots_vs_{away_name}.png\")\n",
    "    plt.savefig(file_path_localShots, bbox_inches='tight') \n",
    "    plt.close()\n",
    "\n",
    "    return file_path_localShots"
   ]
  },
  {
   "cell_type": "code",
   "execution_count": 59,
   "metadata": {},
   "outputs": [],
   "source": [
    "\"\"\" Shots of the Away team\"\"\"\n",
    "\n",
    "def awayShots(season):\n",
    "    pitch = VerticalPitch(pitch_type='custom', pitch_length=105, pitch_width=68, half=True, pitch_color=background_color)\n",
    "    fig, ax = pitch.draw()\n",
    "\n",
    "    fig.patch.set_facecolor(background_color)\n",
    "\n",
    "    if not away_goal_shots.empty:\n",
    "        pitch.scatter(away_goal_shots.x, away_goal_shots.y, ax=ax, marker='football', s=200)\n",
    "    if not away_non_goal_shots.empty:\n",
    "        pitch.scatter(away_non_goal_shots.x, away_non_goal_shots.y, ax=ax, alpha=0.6, label=away_name, color=away_color)\n",
    "\n",
    "    # Fetch and plot the local team image (logo)\n",
    "    response = requests.get(away_img_url)\n",
    "    img_data = Image.open(BytesIO(response.content))\n",
    "    ax_logo = fig.add_axes([0, 0.95, 0.1, 0.1])  # [x, y, Width, Height]\n",
    "    ax_logo.imshow(img_data)\n",
    "    ax_logo.axis(False)\n",
    "\n",
    "    fig.text(0.1, 1, f'{away_name} shots vs {local_name}', fontsize=16, weight='bold', fontfamily=font, color=text_color)\n",
    "    fig.text(0.1, 0.95, f'{local_name} vs {away_name} | {round}', fontsize=13, fontfamily=font, color=sub_text_color)\n",
    "\n",
    "    fig.text(.25, 0.1, \"@3zavalam\", fontsize=10, ha='right', fontfamily=font, color=text_color)\n",
    "    fig.text(.75, 0.1, \" Data: SofaScore y FotMob\", fontsize=10, ha='center', fontfamily=font, color=text_color)\n",
    "\n",
    "    # Data about the shots\n",
    "    fig.text(.92, .6, f\"{away_data['xG']}\", fontsize=14, fontfamily=font, weight='bold', color=text_color)\n",
    "    fig.text(1, .6, 'xG', fontfamily=font, color=text_color, fontsize=14)\n",
    "\n",
    "    fig.text(.92, .5, f'{away_goals}', fontsize=14, fontfamily=font, weight='bold', color=text_color)\n",
    "    fig.text(1, .5, 'Goals', fontfamily=font, color=text_color, fontsize=14)\n",
    "\n",
    "    fig.text(.92, .4, f'{away_shots['eventType'].count()}', fontsize=14, fontfamily=font,  weight='bold', color=text_color)\n",
    "    fig.text(1, .4, 'Shots', fontfamily=font, color=text_color, fontsize=14)\n",
    "\n",
    "\n",
    "    # Replace \"/\" with \"-\" in the season string\n",
    "    season = season.replace(\"/\", \"-\")\n",
    "    # Create the directory path\n",
    "    directory = os.path.join(\"output\", \"shots\", \"teams\", league, season, round)\n",
    "    # Check if the directory exists, if not, create it\n",
    "    if not os.path.exists(directory):\n",
    "        os.makedirs(directory)\n",
    "    # Define the file path\n",
    "    file_path_awayShots = os.path.join(directory, f\"{away_name}_shots_vs_{local_name}.png\")\n",
    "    plt.savefig(file_path_awayShots, bbox_inches='tight') \n",
    "    plt.close()\n",
    "    \n",
    "    return file_path_awayShots"
   ]
  },
  {
   "cell_type": "markdown",
   "metadata": {},
   "source": [
    "### Calling Functions"
   ]
  },
  {
   "cell_type": "code",
   "execution_count": 60,
   "metadata": {},
   "outputs": [],
   "source": [
    "\"\"\" Uncomment the ones to plot \"\"\"\n",
    "file_path_player = playerShots(season=season)\n",
    "file_path_localShots = localShots(season=season)\n",
    "file_path_awayShots = awayShots(season=season)\n",
    "\n",
    "file_paths = [file_path_player, file_path_localShots, file_path_awayShots]"
   ]
  },
  {
   "cell_type": "markdown",
   "metadata": {},
   "source": [
    "### Twitter"
   ]
  },
  {
   "cell_type": "code",
   "execution_count": 61,
   "metadata": {},
   "outputs": [],
   "source": [
    "def tweet(file_path, text):\n",
    "        auth = tweepy.OAuthHandler(api_key, api_secret)\n",
    "        auth.set_access_token(access_token, access_token_secret)\n",
    "        api = tweepy.API(auth, wait_on_rate_limit=True)\n",
    "\n",
    "        # V2 Twitter API Authentication\n",
    "        client = tweepy.Client(\n",
    "            bearer_token,\n",
    "            api_key,\n",
    "            api_secret,\n",
    "            access_token,\n",
    "            access_token_secret,\n",
    "            wait_on_rate_limit=True,\n",
    "        )\n",
    "\n",
    "        media_id = api.media_upload(filename=file_path).media_id_string\n",
    "        client.create_tweet(text=text, media_ids=[media_id])\n",
    "        print(\"Tweeted!\")"
   ]
  },
  {
   "cell_type": "code",
   "execution_count": 62,
   "metadata": {},
   "outputs": [],
   "source": [
    "if 'Liga' in league or 'CONMEBOL' in league or 'CONCACAF' in league:\n",
    "    tweet_text_awayShots = (f\"Tiros {away_name} vs {local_name}\")\n",
    "    tweet_text_localShots = (f\"Tiros {local_name} vs {away_name}\")\n",
    "    tweet_text_playerShots = (f\"Tiros de {pom_name} vs {against_name}\")\n",
    "else:\n",
    "    tweet_text_awayShots = (f\"Shots {away_name} vs {local_name}\")\n",
    "    tweet_text_localShots = (f\"Shots {local_name} vs {away_name}\")\n",
    "    tweet_text_playerShots = (f\"Shots by {pom_name} vs {against_name}\")"
   ]
  },
  {
   "cell_type": "code",
   "execution_count": 63,
   "metadata": {},
   "outputs": [
    {
     "ename": "TypeError",
     "evalue": "tweet() got an unexpected keyword argument 'file_paths'",
     "output_type": "error",
     "traceback": [
      "\u001b[0;31m---------------------------------------------------------------------------\u001b[0m",
      "\u001b[0;31mTypeError\u001b[0m                                 Traceback (most recent call last)",
      "Cell \u001b[0;32mIn[63], line 1\u001b[0m\n\u001b[0;32m----> 1\u001b[0m \u001b[43mtweet\u001b[49m\u001b[43m(\u001b[49m\u001b[43mfile_paths\u001b[49m\u001b[38;5;241;43m=\u001b[39;49m\u001b[43mfile_paths\u001b[49m\u001b[43m,\u001b[49m\u001b[43m \u001b[49m\u001b[43mtext\u001b[49m\u001b[38;5;241;43m=\u001b[39;49m\u001b[38;5;124;43mf\u001b[39;49m\u001b[38;5;124;43m'\u001b[39;49m\u001b[38;5;124;43mShotmaps \u001b[39;49m\u001b[38;5;132;43;01m{\u001b[39;49;00m\u001b[43mlocal_name\u001b[49m\u001b[38;5;132;43;01m}\u001b[39;49;00m\u001b[38;5;124;43m vs \u001b[39;49m\u001b[38;5;132;43;01m{\u001b[39;49;00m\u001b[43maway_name\u001b[49m\u001b[38;5;132;43;01m}\u001b[39;49;00m\u001b[38;5;124;43m'\u001b[39;49m\u001b[43m)\u001b[49m\n",
      "\u001b[0;31mTypeError\u001b[0m: tweet() got an unexpected keyword argument 'file_paths'"
     ]
    }
   ],
   "source": [
    "tweet(file_paths=file_paths, text=f'Shotmaps {local_name} vs {away_name}')"
   ]
  },
  {
   "cell_type": "code",
   "execution_count": null,
   "metadata": {},
   "outputs": [],
   "source": []
  }
 ],
 "metadata": {
  "kernelspec": {
   "display_name": "Python 3",
   "language": "python",
   "name": "python3"
  },
  "language_info": {
   "codemirror_mode": {
    "name": "ipython",
    "version": 3
   },
   "file_extension": ".py",
   "mimetype": "text/x-python",
   "name": "python",
   "nbconvert_exporter": "python",
   "pygments_lexer": "ipython3",
   "version": "3.12.2"
  }
 },
 "nbformat": 4,
 "nbformat_minor": 2
}
