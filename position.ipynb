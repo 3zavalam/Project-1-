{
 "cells": [
  {
   "cell_type": "markdown",
   "metadata": {},
   "source": [
    "### Imports"
   ]
  },
  {
   "cell_type": "code",
   "execution_count": null,
   "metadata": {},
   "outputs": [],
   "source": [
    "# Scrap \n",
    "import requests\n",
    "import ScraperFC as sfs\n",
    "\n",
    "# Data Managment \n",
    "import pandas as pd\n",
    "import numpy as np\n",
    "\n",
    "# Viz\n",
    "from mplsoccer import Pitch, VerticalPitch\n",
    "import matplotlib.pyplot as plt \n",
    "\n",
    "# Others\n",
    "import os \n",
    "from PIL import Image\n",
    "from io import BytesIO\n",
    "import tweepy"
   ]
  },
  {
   "cell_type": "code",
   "execution_count": null,
   "metadata": {},
   "outputs": [],
   "source": [
    "# Fonts and colors \n",
    "from matplotlib import font_manager\n",
    "locations = ['/Users/emilio/Documents/3- Resources/lightstats/fonts/Montserrat']\n",
    "font_files = font_manager.findSystemFonts(fontpaths=locations)\n",
    "for file in font_files:\n",
    "    font_manager.fontManager.addfont(file)\n",
    "font = 'Montserrat'\n",
    "\n",
    "# Define the colors using hexadecimal representations\n",
    "background_color = '#F7F7F7' \n",
    "title_color = '#000000'   \n",
    "text_color = '#333333'  \n",
    "sub_text_color = '#808080'   \n",
    "accent_color1 = '#4682B4'    \n",
    "accent_color2 = '#ADD8E6' "
   ]
  },
  {
   "cell_type": "markdown",
   "metadata": {},
   "source": [
    "### Scrap"
   ]
  },
  {
   "cell_type": "code",
   "execution_count": null,
   "metadata": {},
   "outputs": [],
   "source": [
    "# Scrap sofascore\n",
    "sofascore = sfs.Sofascore()\n",
    "\n",
    "sofascore_url = 'https://www.sofascore.com/real-madrid-fc-bayern-munchen/xdbsEgb#id:12173506'\n",
    "sofascore_url = sofascore_url.replace('id:', '')"
   ]
  },
  {
   "cell_type": "markdown",
   "metadata": {},
   "source": [
    "### Data"
   ]
  },
  {
   "cell_type": "code",
   "execution_count": null,
   "metadata": {},
   "outputs": [],
   "source": [
    "# Get opponent team for the SofaScore POM\n",
    "def get_opponent_team(df, playerName):\n",
    "    # Filter rows where playerName matches\n",
    "    player_df = df[df['name'] == playerName]\n",
    "\n",
    "    # Get the player's team name\n",
    "    player_team = player_df['team'].unique()[0]\n",
    "\n",
    "    # Find the opponent team\n",
    "    opponent_team = df[df['team'] != player_team]['team'].unique()[0]\n",
    "\n",
    "    return opponent_team"
   ]
  },
  {
   "cell_type": "markdown",
   "metadata": {},
   "source": [
    "#### Average Positions Data"
   ]
  },
  {
   "cell_type": "code",
   "execution_count": null,
   "metadata": {},
   "outputs": [],
   "source": [
    "# DataFrames for the Average Positions \n",
    "local = sofascore.get_players_average_positions(sofascore_url)[0]\n",
    "localPositions = local[['jerseyNumber', 'averageX', 'averageY']]\n",
    "localname = local['team'].unique()[0]\n",
    "\n",
    "away = sofascore.get_players_average_positions(sofascore_url)[1]\n",
    "awayPositions = away[['jerseyNumber', 'averageX', 'averageY']]\n",
    "awayname = away['team'].unique()[0]"
   ]
  },
  {
   "cell_type": "markdown",
   "metadata": {},
   "source": [
    "#### Heatmap data"
   ]
  },
  {
   "cell_type": "code",
   "execution_count": null,
   "metadata": {},
   "outputs": [],
   "source": [
    "# DataFrame of both teams \n",
    "teamsDf = pd.concat([local, away])\n",
    "teamsDf['name'].unique()"
   ]
  },
  {
   "cell_type": "code",
   "execution_count": null,
   "metadata": {},
   "outputs": [],
   "source": [
    "playerName = 'Vinícius Júnior'\n",
    "opponent_team = get_opponent_team(teamsDf, playerName)\n",
    "# Heatmap DataFrame (POM)\n",
    "player_heatmap = sofascore.get_player_heatmap(sofascore_url, playerName)"
   ]
  },
  {
   "cell_type": "markdown",
   "metadata": {},
   "source": [
    "### Average Positions"
   ]
  },
  {
   "cell_type": "code",
   "execution_count": null,
   "metadata": {},
   "outputs": [],
   "source": [
    "fig, ax = plt.subplots()\n",
    "pitch = Pitch(pitch_type='opta', half=False)\n",
    "pitch.draw(ax=ax)\n",
    "\n",
    "pitch.scatter(localPositions['averageX'], localPositions['averageY'], ax=ax, s=100, label=f'{localname}')\n",
    "\n",
    "# Home shirt numbers\n",
    "for i, jersey_number in enumerate(localPositions['jerseyNumber']):\n",
    "    ax.annotate(jersey_number, (localPositions['averageX'].iloc[i], localPositions['averageY'].iloc[i]), fontsize=10, ha='center', va='center')\n",
    "\n",
    "pitch.scatter(100-awayPositions['averageX'], 100-awayPositions['averageY'], ax=ax, s=100, label=f'{awayname}')\n",
    "\n",
    "# Away shirt numbers\n",
    "for i, jersey_number in enumerate(awayPositions['jerseyNumber']):\n",
    "    ax.annotate(jersey_number, (100-awayPositions['averageX'].iloc[i], 100-awayPositions['averageY'].iloc[i]), fontsize=10, ha='center', va='center')\n",
    "\n",
    "ax.set_title(f'{localname} vs {awayname} average positions', va='center')\n",
    "legend = plt.legend(loc='upper right', fontsize='small')\n",
    "legend.set_bbox_to_anchor((1.3, 1))  # Ajusta la posición de la leyenda ligeramente fuera del gráfico\n",
    "\n",
    "plt.show()\n"
   ]
  },
  {
   "cell_type": "markdown",
   "metadata": {},
   "source": [
    "### Heatmap"
   ]
  },
  {
   "cell_type": "code",
   "execution_count": null,
   "metadata": {},
   "outputs": [],
   "source": [
    "\"\"\" Heatmap visualization of pomSS \"\"\"\n",
    "fig, ax = plt.subplots(figsize=(16,9))\n",
    "fig.set_facecolor(color=background_color)\n",
    "\n",
    "cmap = 'hot'\n",
    "pitch = Pitch(pitch_type='opta', pitch_color=background_color, line_color=sub_text_color)\n",
    "pitch.draw(ax=ax)\n",
    "pitch.kdeplot(player_heatmap.x, player_heatmap.y, ax=ax,\n",
    "              levels=100,\n",
    "              shade=True,\n",
    "              zorder=-1,\n",
    "              shade_lowest=True,\n",
    "              cmap='OrRd'\n",
    ")\n",
    "plt.gca()\n",
    "\n",
    "ax.set_title(f'{playerName} heatmap vs {opponent_team}', fontsize=20, fontfamily=font, color=title_color, weight='bold')\n",
    "\n",
    "arrow = FancyArrowPatch((40, -2), (60, -2), mutation_scale=20, color=sub_text_color, arrowstyle='-|>')\n",
    "ax.add_patch(arrow)\n",
    "ax.text(50, -5, 'Attack', fontsize=12, ha='center', fontfamily=font, color=sub_text_color)"
   ]
  },
  {
   "cell_type": "code",
   "execution_count": null,
   "metadata": {},
   "outputs": [],
   "source": []
  }
 ],
 "metadata": {
  "kernelspec": {
   "display_name": "Python 3",
   "language": "python",
   "name": "python3"
  },
  "language_info": {
   "codemirror_mode": {
    "name": "ipython",
    "version": 3
   },
   "file_extension": ".py",
   "mimetype": "text/x-python",
   "name": "python",
   "nbconvert_exporter": "python",
   "pygments_lexer": "ipython3",
   "version": "3.12.2"
  }
 },
 "nbformat": 4,
 "nbformat_minor": 2
}
