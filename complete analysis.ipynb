{
 "cells": [
  {
   "cell_type": "markdown",
   "metadata": {},
   "source": [
    "### Imports"
   ]
  },
  {
   "cell_type": "code",
   "execution_count": 1,
   "metadata": {},
   "outputs": [
    {
     "name": "stderr",
     "output_type": "stream",
     "text": [
      "/Library/Frameworks/Python.framework/Versions/3.12/lib/python3.12/site-packages/tqdm/auto.py:21: TqdmWarning: IProgress not found. Please update jupyter and ipywidgets. See https://ipywidgets.readthedocs.io/en/stable/user_install.html\n",
      "  from .autonotebook import tqdm as notebook_tqdm\n"
     ]
    }
   ],
   "source": [
    "import requests \n",
    "import json \n",
    "import pandas as pd\n",
    "from bs4 import BeautifulSoup\n",
    "from mplsoccer import Pitch, VerticalPitch\n",
    "import numpy as np\n",
    "from matplotlib.patches import FancyArrowPatch\n",
    "from matplotlib.offsetbox import OffsetImage\n",
    "import matplotlib.pyplot as plt\n",
    "import matplotlib.gridspec as gridspec\n",
    "import matplotlib.image as mpimg\n",
    "from matplotlib.patches import ConnectionPatch\n",
    "import os\n",
    "\n",
    "import urllib.request\n",
    "from PIL import Image\n",
    "\n",
    "import ScraperFC as sfs\n",
    "from io import BytesIO"
   ]
  },
  {
   "cell_type": "code",
   "execution_count": 3,
   "metadata": {},
   "outputs": [],
   "source": [
    "# Fonts and colors \n",
    "from matplotlib import font_manager\n",
    "locations = ['/Users/emilio/Documents/3- Resources/lightstats/fonts/Montserrat']\n",
    "font_files = font_manager.findSystemFonts(fontpaths=locations)\n",
    "for file in font_files:\n",
    "    font_manager.fontManager.addfont(file)\n",
    "font = 'Montserrat'\n",
    "\n",
    "# Define the colors using hexadecimal representations\n",
    "background_color = '#F7F7F7' \n",
    "title_color = '#000000'   \n",
    "text_color = '#333333'  \n",
    "sub_text_color = '#808080'   \n",
    "accent_color1 = '#4682B4'    \n",
    "accent_color2 = '#ADD8E6' "
   ]
  },
  {
   "cell_type": "markdown",
   "metadata": {},
   "source": [
    "### Scrap info"
   ]
  },
  {
   "cell_type": "code",
   "execution_count": 4,
   "metadata": {},
   "outputs": [],
   "source": [
    "# Scrap sofascore\n",
    "sofascore = sfs.Sofascore()\n",
    "\n",
    "\n",
    "sofascore_url = 'https://www.sofascore.com/pec-zwolle-feyenoord/jjbswjb#id:11388402'\n",
    "sofascore_url = sofascore_url.replace('id:', '')\n",
    "\n",
    "\n",
    "# Scrap fotmob\n",
    "fotmob_url = 'https://www.fotmob.com/api/matchDetails?matchId=4216652'\n",
    "\n",
    "payload = {}\n",
    "headers = {}\n",
    "\n",
    "response = requests.request(\"GET\", fotmob_url, headers=headers, data=payload)\n",
    "\n",
    "data = response.json()\n",
    "\n",
    "# print(response.text) Imprime el html"
   ]
  },
  {
   "cell_type": "markdown",
   "metadata": {},
   "source": [
    "### DataFrames"
   ]
  },
  {
   "cell_type": "code",
   "execution_count": 5,
   "metadata": {},
   "outputs": [],
   "source": [
    "dfShots = pd.DataFrame(response.json()['content']['shotmap']['shots'])\n",
    "df_matchStats = sofascore.get_general_match_stats(sofascore_url)"
   ]
  },
  {
   "cell_type": "code",
   "execution_count": 6,
   "metadata": {},
   "outputs": [
    {
     "ename": "KeyError",
     "evalue": "'captain'",
     "output_type": "error",
     "traceback": [
      "\u001b[0;31m---------------------------------------------------------------------------\u001b[0m",
      "\u001b[0;31mKeyError\u001b[0m                                  Traceback (most recent call last)",
      "File \u001b[0;32m/Library/Frameworks/Python.framework/Versions/3.12/lib/python3.12/site-packages/pandas/core/indexes/base.py:3805\u001b[0m, in \u001b[0;36mIndex.get_loc\u001b[0;34m(self, key)\u001b[0m\n\u001b[1;32m   3804\u001b[0m \u001b[38;5;28;01mtry\u001b[39;00m:\n\u001b[0;32m-> 3805\u001b[0m     \u001b[38;5;28;01mreturn\u001b[39;00m \u001b[38;5;28;43mself\u001b[39;49m\u001b[38;5;241;43m.\u001b[39;49m\u001b[43m_engine\u001b[49m\u001b[38;5;241;43m.\u001b[39;49m\u001b[43mget_loc\u001b[49m\u001b[43m(\u001b[49m\u001b[43mcasted_key\u001b[49m\u001b[43m)\u001b[49m\n\u001b[1;32m   3806\u001b[0m \u001b[38;5;28;01mexcept\u001b[39;00m \u001b[38;5;167;01mKeyError\u001b[39;00m \u001b[38;5;28;01mas\u001b[39;00m err:\n",
      "File \u001b[0;32mindex.pyx:167\u001b[0m, in \u001b[0;36mpandas._libs.index.IndexEngine.get_loc\u001b[0;34m()\u001b[0m\n",
      "File \u001b[0;32mindex.pyx:196\u001b[0m, in \u001b[0;36mpandas._libs.index.IndexEngine.get_loc\u001b[0;34m()\u001b[0m\n",
      "File \u001b[0;32mpandas/_libs/hashtable_class_helper.pxi:7081\u001b[0m, in \u001b[0;36mpandas._libs.hashtable.PyObjectHashTable.get_item\u001b[0;34m()\u001b[0m\n",
      "File \u001b[0;32mpandas/_libs/hashtable_class_helper.pxi:7089\u001b[0m, in \u001b[0;36mpandas._libs.hashtable.PyObjectHashTable.get_item\u001b[0;34m()\u001b[0m\n",
      "\u001b[0;31mKeyError\u001b[0m: 'captain'",
      "\nThe above exception was the direct cause of the following exception:\n",
      "\u001b[0;31mKeyError\u001b[0m                                  Traceback (most recent call last)",
      "Cell \u001b[0;32mIn[6], line 2\u001b[0m\n\u001b[1;32m      1\u001b[0m \u001b[38;5;66;03m# Df's for the heatmap\u001b[39;00m\n\u001b[0;32m----> 2\u001b[0m dfhome \u001b[38;5;241m=\u001b[39m \u001b[43msofascore\u001b[49m\u001b[38;5;241;43m.\u001b[39;49m\u001b[43mget_players_match_stats\u001b[49m\u001b[43m(\u001b[49m\u001b[43msofascore_url\u001b[49m\u001b[43m)\u001b[49m[\u001b[38;5;241m0\u001b[39m]\n\u001b[1;32m      3\u001b[0m dfaway \u001b[38;5;241m=\u001b[39m sofascore\u001b[38;5;241m.\u001b[39mget_players_match_stats(sofascore_url)[\u001b[38;5;241m1\u001b[39m]\n\u001b[1;32m      5\u001b[0m home_posDf \u001b[38;5;241m=\u001b[39m sofascore\u001b[38;5;241m.\u001b[39mget_players_average_positions(sofascore_url)[\u001b[38;5;241m0\u001b[39m]\n",
      "File \u001b[0;32m/Library/Frameworks/Python.framework/Versions/3.12/lib/python3.12/site-packages/ScraperFC/Sofascore.py:274\u001b[0m, in \u001b[0;36mSofascore.get_players_match_stats\u001b[0;34m(self, match_url)\u001b[0m\n\u001b[1;32m    268\u001b[0m \u001b[38;5;28;01mfor\u001b[39;00m team \u001b[38;5;129;01min\u001b[39;00m names\u001b[38;5;241m.\u001b[39mkeys():\n\u001b[1;32m    269\u001b[0m     data \u001b[38;5;241m=\u001b[39m pd\u001b[38;5;241m.\u001b[39mDataFrame(response\u001b[38;5;241m.\u001b[39mjson()[team][\u001b[38;5;124m'\u001b[39m\u001b[38;5;124mplayers\u001b[39m\u001b[38;5;124m'\u001b[39m])\n\u001b[1;32m    270\u001b[0m     columns_list \u001b[38;5;241m=\u001b[39m [\n\u001b[1;32m    271\u001b[0m         data[\u001b[38;5;124m'\u001b[39m\u001b[38;5;124mplayer\u001b[39m\u001b[38;5;124m'\u001b[39m]\u001b[38;5;241m.\u001b[39mapply(pd\u001b[38;5;241m.\u001b[39mSeries), data[\u001b[38;5;124m'\u001b[39m\u001b[38;5;124mshirtNumber\u001b[39m\u001b[38;5;124m'\u001b[39m], \n\u001b[1;32m    272\u001b[0m         data[\u001b[38;5;124m'\u001b[39m\u001b[38;5;124mjerseyNumber\u001b[39m\u001b[38;5;124m'\u001b[39m], data[\u001b[38;5;124m'\u001b[39m\u001b[38;5;124mposition\u001b[39m\u001b[38;5;124m'\u001b[39m], data[\u001b[38;5;124m'\u001b[39m\u001b[38;5;124msubstitute\u001b[39m\u001b[38;5;124m'\u001b[39m], \n\u001b[1;32m    273\u001b[0m         data[\u001b[38;5;124m'\u001b[39m\u001b[38;5;124mstatistics\u001b[39m\u001b[38;5;124m'\u001b[39m]\u001b[38;5;241m.\u001b[39mapply(pd\u001b[38;5;241m.\u001b[39mSeries, dtype\u001b[38;5;241m=\u001b[39m\u001b[38;5;28mobject\u001b[39m), \n\u001b[0;32m--> 274\u001b[0m         \u001b[43mdata\u001b[49m\u001b[43m[\u001b[49m\u001b[38;5;124;43m'\u001b[39;49m\u001b[38;5;124;43mcaptain\u001b[39;49m\u001b[38;5;124;43m'\u001b[39;49m\u001b[43m]\u001b[49m\n\u001b[1;32m    275\u001b[0m     ]\n\u001b[1;32m    276\u001b[0m     df \u001b[38;5;241m=\u001b[39m pd\u001b[38;5;241m.\u001b[39mconcat(columns_list, axis\u001b[38;5;241m=\u001b[39m\u001b[38;5;241m1\u001b[39m)\n\u001b[1;32m    277\u001b[0m     df[\u001b[38;5;124m'\u001b[39m\u001b[38;5;124mteam\u001b[39m\u001b[38;5;124m'\u001b[39m] \u001b[38;5;241m=\u001b[39m names[team]\n",
      "File \u001b[0;32m/Library/Frameworks/Python.framework/Versions/3.12/lib/python3.12/site-packages/pandas/core/frame.py:4090\u001b[0m, in \u001b[0;36mDataFrame.__getitem__\u001b[0;34m(self, key)\u001b[0m\n\u001b[1;32m   4088\u001b[0m \u001b[38;5;28;01mif\u001b[39;00m \u001b[38;5;28mself\u001b[39m\u001b[38;5;241m.\u001b[39mcolumns\u001b[38;5;241m.\u001b[39mnlevels \u001b[38;5;241m>\u001b[39m \u001b[38;5;241m1\u001b[39m:\n\u001b[1;32m   4089\u001b[0m     \u001b[38;5;28;01mreturn\u001b[39;00m \u001b[38;5;28mself\u001b[39m\u001b[38;5;241m.\u001b[39m_getitem_multilevel(key)\n\u001b[0;32m-> 4090\u001b[0m indexer \u001b[38;5;241m=\u001b[39m \u001b[38;5;28;43mself\u001b[39;49m\u001b[38;5;241;43m.\u001b[39;49m\u001b[43mcolumns\u001b[49m\u001b[38;5;241;43m.\u001b[39;49m\u001b[43mget_loc\u001b[49m\u001b[43m(\u001b[49m\u001b[43mkey\u001b[49m\u001b[43m)\u001b[49m\n\u001b[1;32m   4091\u001b[0m \u001b[38;5;28;01mif\u001b[39;00m is_integer(indexer):\n\u001b[1;32m   4092\u001b[0m     indexer \u001b[38;5;241m=\u001b[39m [indexer]\n",
      "File \u001b[0;32m/Library/Frameworks/Python.framework/Versions/3.12/lib/python3.12/site-packages/pandas/core/indexes/base.py:3812\u001b[0m, in \u001b[0;36mIndex.get_loc\u001b[0;34m(self, key)\u001b[0m\n\u001b[1;32m   3807\u001b[0m     \u001b[38;5;28;01mif\u001b[39;00m \u001b[38;5;28misinstance\u001b[39m(casted_key, \u001b[38;5;28mslice\u001b[39m) \u001b[38;5;129;01mor\u001b[39;00m (\n\u001b[1;32m   3808\u001b[0m         \u001b[38;5;28misinstance\u001b[39m(casted_key, abc\u001b[38;5;241m.\u001b[39mIterable)\n\u001b[1;32m   3809\u001b[0m         \u001b[38;5;129;01mand\u001b[39;00m \u001b[38;5;28many\u001b[39m(\u001b[38;5;28misinstance\u001b[39m(x, \u001b[38;5;28mslice\u001b[39m) \u001b[38;5;28;01mfor\u001b[39;00m x \u001b[38;5;129;01min\u001b[39;00m casted_key)\n\u001b[1;32m   3810\u001b[0m     ):\n\u001b[1;32m   3811\u001b[0m         \u001b[38;5;28;01mraise\u001b[39;00m InvalidIndexError(key)\n\u001b[0;32m-> 3812\u001b[0m     \u001b[38;5;28;01mraise\u001b[39;00m \u001b[38;5;167;01mKeyError\u001b[39;00m(key) \u001b[38;5;28;01mfrom\u001b[39;00m \u001b[38;5;21;01merr\u001b[39;00m\n\u001b[1;32m   3813\u001b[0m \u001b[38;5;28;01mexcept\u001b[39;00m \u001b[38;5;167;01mTypeError\u001b[39;00m:\n\u001b[1;32m   3814\u001b[0m     \u001b[38;5;66;03m# If we have a listlike key, _check_indexing_error will raise\u001b[39;00m\n\u001b[1;32m   3815\u001b[0m     \u001b[38;5;66;03m#  InvalidIndexError. Otherwise we fall through and re-raise\u001b[39;00m\n\u001b[1;32m   3816\u001b[0m     \u001b[38;5;66;03m#  the TypeError.\u001b[39;00m\n\u001b[1;32m   3817\u001b[0m     \u001b[38;5;28mself\u001b[39m\u001b[38;5;241m.\u001b[39m_check_indexing_error(key)\n",
      "\u001b[0;31mKeyError\u001b[0m: 'captain'"
     ]
    }
   ],
   "source": [
    "# Df's for the heatmap\n",
    "dfhome = sofascore.get_players_match_stats(sofascore_url)[0]\n",
    "dfaway = sofascore.get_players_match_stats(sofascore_url)[1]\n",
    "\n",
    "home_posDf = sofascore.get_players_average_positions(sofascore_url)[0]\n",
    "homePositions = home_posDf[['jerseyNumber', 'averageX', 'averageY']]\n",
    "homename = home_posDf['team'].unique()[0]\n",
    "\n",
    "away_posDf = sofascore.get_players_average_positions(sofascore_url)[1]\n",
    "awayPositions = away_posDf[['jerseyNumber', 'averageX', 'averageY']]\n",
    "awayname = away_posDf['team'].unique()[0]\n",
    "\n",
    "teamsDf = pd.concat([home_posDf, away_posDf])"
   ]
  },
  {
   "cell_type": "markdown",
   "metadata": {},
   "source": [
    "### Team's Stats"
   ]
  },
  {
   "cell_type": "code",
   "execution_count": null,
   "metadata": {},
   "outputs": [],
   "source": [
    "# Extracting the 'stats' dictionary from the 'expected_goals_stats' dictionary\n",
    "expected_goals_stats = data['content']['stats']['Periods']['All']['stats'][2]['stats'][1]\n",
    "# Extracting the array of expected goals values from the 'expected_goals_stats' dictionary\n",
    "expected_goals_array = expected_goals_stats['stats']\n",
    "\n",
    "\n",
    "# Lista de todas las estadísticas\n",
    "all_stats = ['xG', 'Possesion', 'Shots', 'Fouls', 'Big Chances']\n",
    "\n",
    "# Obtener los datos para el equipo home\n",
    "home_data = {\n",
    "    'xG': float(expected_goals_array[0]),\n",
    "    'Possesion': float(df_matchStats[df_matchStats['name'] == 'Ball possession']['homeValue'].iloc[0]),\n",
    "    'Shots': int(df_matchStats[df_matchStats['name'] == 'Total shots']['home'].iloc[0]),\n",
    "    'Fouls': int(df_matchStats[df_matchStats['name'] == 'Fouls']['home'].iloc[0]),\n",
    "    'Big Chances': float(df_matchStats[df_matchStats['name'] == 'Big chances']['home'].iloc[0])\n",
    "}\n",
    "\n",
    "# Obtener los datos para el equipo visitante\n",
    "away_data = {\n",
    "    'xG': float(expected_goals_array[1]),\n",
    "    'Possesion': float(df_matchStats[df_matchStats['name'] == 'Ball possession']['awayValue'].iloc[0]),\n",
    "    'Shots': int(df_matchStats[df_matchStats['name'] == 'Total shots']['away'].iloc[0]),\n",
    "    'Fouls': int(df_matchStats[df_matchStats['name'] == 'Fouls']['away'].iloc[0]),\n",
    "    'Big Chances': float(df_matchStats[df_matchStats['name'] == 'Big chances']['away'].iloc[0])\n",
    "}"
   ]
  },
  {
   "cell_type": "code",
   "execution_count": null,
   "metadata": {},
   "outputs": [],
   "source": [
    "def get_opponent_team(df, playerName):\n",
    "    # Filter rows where playerName matches\n",
    "    player_df = df[df['name'] == playerName]\n",
    "\n",
    "    # Get the player's team name\n",
    "    player_team = player_df['team'].unique()[0]\n",
    "\n",
    "    # Find the opponent team\n",
    "    opponent_team = df[df['team'] != player_team]['team'].unique()[0]\n",
    "\n",
    "    return opponent_team"
   ]
  },
  {
   "cell_type": "markdown",
   "metadata": {},
   "source": [
    "### Game Data"
   ]
  },
  {
   "cell_type": "code",
   "execution_count": null,
   "metadata": {},
   "outputs": [],
   "source": [
    "round = data['general']['leagueRoundName']\n",
    "round = round.replace('Round of 16', 'Octavos de Final')\n",
    "round = round.replace('Round', 'Jornada')\n",
    "round = round.replace('Semi-Finals', 'Semifinal')\n",
    "round = round.replace('Quarter-Finals', 'Cuartos de Final')\n",
    "\n",
    "match_time = data['general']['matchTimeUTC']\n",
    "season = data['general']['parentLeagueSeason']\n",
    "score = data['header']['status']['scoreStr']\n",
    "pen_flag = data['header']['status']['reason']['short']\n",
    "league = sofascore.get_match_data(sofascore_url)['tournament']['uniqueTournament']['name']\n",
    "\n",
    "if pen_flag == 'Pen':\n",
    "    away_penalties = data['header']['status']['reason']['penalties'][1]\n",
    "    home_penalties = data['header']['status']['reason']['penalties'][0]"
   ]
  },
  {
   "cell_type": "markdown",
   "metadata": {},
   "source": [
    "### Team's Data"
   ]
  },
  {
   "cell_type": "code",
   "execution_count": null,
   "metadata": {},
   "outputs": [],
   "source": [
    "# Check if 'general' key exists in the response\n",
    "home_name = data['header']['teams'][0]['name']\n",
    "home_id = data['header']['teams'][0]['id']\n",
    "home_color = dfShots[dfShots['teamId'] == home_id]['teamColor'].iloc[0]\n",
    "home_img_url = data['header']['teams'][0]['imageUrl']\n",
    "\n",
    "away_name = data['header']['teams'][1]['name']\n",
    "away_id = data['header']['teams'][1]['id']\n",
    "away_color = dfShots[dfShots['teamId'] == away_id]['teamColor'].iloc[0]\n",
    "away_img_url = data['header']['teams'][1]['imageUrl']\n",
    "\n",
    "team_data = {}\n",
    "# Function to populate team data\n",
    "def populate_team_data(team_id, data, df_shots):\n",
    "    team_index = 0 if team_id == data['header']['teams'][0]['id'] else 1\n",
    "    team_name = data['header']['teams'][team_index]['name']\n",
    "    team_color = df_shots[df_shots['teamId'] == team_id]['teamColor'].iloc[0]\n",
    "    team_img_url = data['header']['teams'][team_index]['imageUrl']\n",
    "    return team_name, team_color, team_img_url\n",
    "\n",
    "# Populate team data\n",
    "home_name, home_color, home_img_url = populate_team_data(home_id, data, dfShots)\n",
    "away_name, away_color, away_img_url = populate_team_data(away_id, data, dfShots)"
   ]
  },
  {
   "cell_type": "code",
   "execution_count": null,
   "metadata": {},
   "outputs": [],
   "source": [
    "\"\"\" Get if the colors are similar \"\"\"\n",
    "\n",
    "def get_rgb(color):\n",
    "    \"\"\"Converts a hex color to an RGB tuple.\"\"\"\n",
    "    color = int(color[1:], 16)\n",
    "    r = color >> 16\n",
    "    g = (color - (r << 16)) >> 8\n",
    "    b = color - (r << 16) - (g << 8)\n",
    "    return [r, g, b]\n",
    "\n",
    "def is_similar(color1, color2):\n",
    "    \"\"\"Checks if two colors are similar.\"\"\"\n",
    "    r1, g1, b1 = get_rgb(color1)\n",
    "    r2, g2, b2 = get_rgb(color2)\n",
    "    return (abs(r1 - r2) + abs(g1 - g2) + abs(b1 - b2)) < 50\n",
    "\n",
    "\n",
    "if is_similar(home_color, away_color):\n",
    "    home_color = '#FF0000'\n",
    "    away_color = '#0000ff'"
   ]
  },
  {
   "cell_type": "markdown",
   "metadata": {},
   "source": [
    "### Shotmap"
   ]
  },
  {
   "cell_type": "code",
   "execution_count": null,
   "metadata": {},
   "outputs": [],
   "source": [
    "# Filtrar los disparos del equipo home y del equipo visitante\n",
    "home_shots = dfShots[dfShots['teamId'] == home_id]\n",
    "away_shots = dfShots[dfShots['teamId'] == away_id]\n",
    "\n",
    "# Filtrar los goles del equipo home y mostrarlos de manera diferente\n",
    "home_goal_shots = home_shots[home_shots['eventType'] == 'Goal']\n",
    "away_goal_shots = away_shots[away_shots['eventType'] == 'Goal']\n",
    "\n",
    "# Filtrar los disparos que no son goles del equipo home y mostrarlos con transparencia\n",
    "home_non_goal_shots = home_shots[home_shots['eventType'] != 'Goal']\n",
    "away_non_goal_shots = away_shots[away_shots['eventType'] != 'Goal']"
   ]
  },
  {
   "cell_type": "markdown",
   "metadata": {},
   "source": [
    "### POM Stats"
   ]
  },
  {
   "cell_type": "markdown",
   "metadata": {},
   "source": [
    "#### Fotmob"
   ]
  },
  {
   "cell_type": "code",
   "execution_count": null,
   "metadata": {},
   "outputs": [
    {
     "name": "stdout",
     "output_type": "stream",
     "text": [
      "Selected keys: ['Goals', 'Assist', 'Total shots', 'Expected goals (xG)', 'Shot accuracy', 'Successful dribbles', 'xG Non-penalty']\n",
      "Value for Goals : 2\n",
      "Value for Total shots : 5\n",
      "Value for Expected goals (xG) : 1.14\n",
      "Value for Shot accuracy : 3\n",
      "Value for Successful dribbles : 2\n",
      "Value for xG Non-penalty : 0.35\n"
     ]
    }
   ],
   "source": [
    "dfPom = data['content']['matchFacts']['playerOfTheMatch']\n",
    "\n",
    "# Extract the player of the match details\n",
    "pom_stats = dfPom['stats']\n",
    "\n",
    "# POM = Player of the Match\n",
    "pomFM = dfPom['name']['fullName']\n",
    "pom_position = dfPom['role']\n",
    "pom_id = dfPom['id']\n",
    "pom_team = dfPom['teamName']\n",
    "pom_img_url = f'https://images.fotmob.com/image_resources/playerimages/{pom_id}.png'\n",
    "\n",
    "# Initialize empty lists to store the keys and values for plotting\n",
    "keys = []\n",
    "values = []\n",
    "\n",
    "positions = ['Keeper', 'Defender', 'Midfielder', 'Attacker']\n",
    "attackerKeys = ['Goals', 'Assist', 'Total shots','Expected goals (xG)', 'Shot accuracy', 'Successful dribbles', 'xG Non-penalty']\n",
    "midfielderKeys = ['Goals', 'Assists', 'Expected assists (xA)', 'Accurate passes', 'Chances created', 'Accurate long balls', 'Passes into final third', 'Successful dribbles']\n",
    "defenderKeys = ['Tackles won', 'Blocks', 'Recoveries', 'Interceptions', 'Clearances']\n",
    "keeperKeys = ['Clearances', 'Recoveries', 'Defensive actions']\n",
    "\n",
    "# Define a dictionary to map positions to keys\n",
    "position_keys_mapping = {\n",
    "    'Keeper': keeperKeys,\n",
    "    'Defender': defenderKeys,\n",
    "    'Midfielder': midfielderKeys,\n",
    "    'Attacker': attackerKeys\n",
    "}\n",
    "\n",
    "if pom_position in positions:\n",
    "    selected_keys = position_keys_mapping[pom_position]\n",
    "    print(\"Selected keys:\", selected_keys)  # Debugging statement\n",
    "\n",
    "    # Iterate over the stats dictionary to extract the specified keys and values\n",
    "    for stat_group in pom_stats:\n",
    "        # Check if the title matches the desired titles\n",
    "        if stat_group['title'] in ['Top stats', 'Attack', 'Defense']:\n",
    "            # Extract the 'stats' dictionary\n",
    "            stats_dict = stat_group['stats']\n",
    "            \n",
    "            # Iterate over the keys and store the values for specified keys\n",
    "            for key in selected_keys:\n",
    "                if key in stats_dict:\n",
    "                    keys.append(key)\n",
    "                    # Convert value to a numeric type\n",
    "                    value = stats_dict[key]['stat']['value']\n",
    "                    print(\"Value for\", key, \":\", value)  # Debugging statement\n",
    "                    if isinstance(value, str) and '/' in value:  # Handling cases like '28/40 (70%)'\n",
    "                        value = float(value.split('/')[0])  # Extracting the numerator as a float\n",
    "                    else:\n",
    "                        value = float(value)  # Convert to float if possible\n",
    "\n",
    "                    values.append(value)"
   ]
  },
  {
   "cell_type": "code",
   "execution_count": 8,
   "metadata": {},
   "outputs": [],
   "source": [
    "# Print the keys of Stats \n",
    "def pom_statsKeys(title):\n",
    "    for stat_group in pom_stats:\n",
    "        if stat_group['title'] == title:\n",
    "            print(f\"Stats in {title}: \")\n",
    "            for key, value in stat_group['stats'].items():\n",
    "                print(f'- {key}')"
   ]
  },
  {
   "cell_type": "markdown",
   "metadata": {},
   "source": [
    "#### SofaScore"
   ]
  },
  {
   "cell_type": "code",
   "execution_count": 9,
   "metadata": {},
   "outputs": [
    {
     "ename": "NameError",
     "evalue": "name 'dfaway' is not defined",
     "output_type": "error",
     "traceback": [
      "\u001b[0;31m---------------------------------------------------------------------------\u001b[0m",
      "\u001b[0;31mNameError\u001b[0m                                 Traceback (most recent call last)",
      "Cell \u001b[0;32mIn[9], line 5\u001b[0m\n\u001b[1;32m      2\u001b[0m pomhome \u001b[38;5;241m=\u001b[39m dfhome\u001b[38;5;241m.\u001b[39mloc[max_rating_home, \u001b[38;5;124m'\u001b[39m\u001b[38;5;124mname\u001b[39m\u001b[38;5;124m'\u001b[39m]\n\u001b[1;32m      3\u001b[0m pom_homeRating \u001b[38;5;241m=\u001b[39m dfhome[\u001b[38;5;124m'\u001b[39m\u001b[38;5;124mrating\u001b[39m\u001b[38;5;124m'\u001b[39m]\u001b[38;5;241m.\u001b[39mmax()\n\u001b[0;32m----> 5\u001b[0m max_rating_away \u001b[38;5;241m=\u001b[39m \u001b[43mdfaway\u001b[49m[\u001b[38;5;124m'\u001b[39m\u001b[38;5;124mrating\u001b[39m\u001b[38;5;124m'\u001b[39m]\u001b[38;5;241m.\u001b[39midxmax()\n\u001b[1;32m      6\u001b[0m pomAway \u001b[38;5;241m=\u001b[39m dfaway\u001b[38;5;241m.\u001b[39mloc[max_rating_away, \u001b[38;5;124m'\u001b[39m\u001b[38;5;124mname\u001b[39m\u001b[38;5;124m'\u001b[39m]\n\u001b[1;32m      7\u001b[0m pom_awayRating \u001b[38;5;241m=\u001b[39m dfaway[\u001b[38;5;124m'\u001b[39m\u001b[38;5;124mrating\u001b[39m\u001b[38;5;124m'\u001b[39m]\u001b[38;5;241m.\u001b[39mmax()\n",
      "\u001b[0;31mNameError\u001b[0m: name 'dfaway' is not defined"
     ]
    }
   ],
   "source": [
    "max_rating_home = dfhome['rating'].idxmax()\n",
    "pomhome = dfhome.loc[max_rating_home, 'name']\n",
    "pom_homeRating = dfhome['rating'].max()\n",
    "\n",
    "max_rating_away = dfaway['rating'].idxmax()\n",
    "pomAway = dfaway.loc[max_rating_away, 'name']\n",
    "pom_awayRating = dfaway['rating'].max()\n",
    "\n",
    "if pom_homeRating > pom_awayRating:\n",
    "    pomSS = pomhome\n",
    "    pom_rating = pom_homeRating\n",
    "else:\n",
    "    pomSS = pomAway\n",
    "    pom_rating = pom_awayRating\n",
    "\n",
    "opponent_team = get_opponent_team(teamsDf, pomSS)\n",
    "pom_heatmap = sofascore.get_player_heatmap(sofascore_url, pomSS)"
   ]
  },
  {
   "cell_type": "markdown",
   "metadata": {},
   "source": [
    "### Momentum"
   ]
  },
  {
   "cell_type": "code",
   "execution_count": null,
   "metadata": {},
   "outputs": [],
   "source": [
    "match_momentum = sofascore.match_momentum(sofascore_url)\n",
    "momentum = sofascore.match_momentum(sofascore_url)\n",
    "\n",
    "match_momentum_home = match_momentum[match_momentum['value'] > 0]\n",
    "match_momentum_visit = match_momentum[match_momentum['value'] < 0]"
   ]
  },
  {
   "cell_type": "markdown",
   "metadata": {},
   "source": [
    "### Player Shots"
   ]
  },
  {
   "cell_type": "markdown",
   "metadata": {},
   "source": [
    "#### Data"
   ]
  },
  {
   "cell_type": "code",
   "execution_count": null,
   "metadata": {},
   "outputs": [
    {
     "name": "stdout",
     "output_type": "stream",
     "text": [
      "['David Hancko' 'Luka Ivanusec' 'Igor Paixao' 'Ayase Ueda' 'Calvin Stengs'\n",
      " 'Quinten Timber' 'Santiago Gimenez' 'Gernot Trauner'\n",
      " 'Alireza Jahanbakhsh' 'Thomas van den Belt' 'Lutsharel Geertruida'\n",
      " 'Ondrej Lingr']\n",
      "['Silvester van der Water' 'Damian van der Haar' 'Odysseus Velanas']\n"
     ]
    }
   ],
   "source": [
    "\"\"\" Print the names of the players that shoot at least one time\"\"\"\n",
    "away_players_shooting = away_shots['playerName'].unique()\n",
    "home_players_shooting = home_shots['playerName'].unique()\n",
    "\n",
    "print(home_players_shooting)\n",
    "print(away_players_shooting)"
   ]
  },
  {
   "cell_type": "code",
   "execution_count": null,
   "metadata": {},
   "outputs": [],
   "source": [
    "#player_name = 'Marcus Rashford'\n",
    "dfPom = data['content']['matchFacts']['playerOfTheMatch']\n",
    "pom_positionFM = dfPom['role']\n",
    "\n",
    "# Could change pomFM to player_name\n",
    "player_shots = dfShots[dfShots['playerName'] == pomFM]\n",
    "player_goal_shots = player_shots[player_shots['eventType'] == 'Goal']\n",
    "player_non_goal_shots = player_shots[player_shots['eventType'] != 'Goal']"
   ]
  },
  {
   "cell_type": "code",
   "execution_count": null,
   "metadata": {},
   "outputs": [],
   "source": [
    "playerId = dfPom['id']\n",
    "player_img_url = f'https://images.fotmob.com/image_resources/playerimages/{playerId}.png'\n",
    "\n",
    "# Retrieve team data\n",
    "player_team_id = dfPom['teamId']\n",
    "\n",
    "if player_team_id == home_id:\n",
    "    against_id = away_id\n",
    "    against_name, against_color, against_img_url = away_name, away_color, away_img_url\n",
    "elif player_team_id == away_id:\n",
    "    against_id = home_id\n",
    "    against_name, against_color, against_img_url = home_name, home_color, home_img_url"
   ]
  },
  {
   "cell_type": "markdown",
   "metadata": {},
   "source": [
    "#### Plot shots"
   ]
  },
  {
   "cell_type": "code",
   "execution_count": null,
   "metadata": {},
   "outputs": [],
   "source": [
    "\"\"\" Shots of the Selected Player during a Match \"\"\"\n",
    "def playerShots(season): \n",
    "    pitch = VerticalPitch(pitch_type='custom', pitch_length=105, pitch_width=68, half=True, pitch_color=background_color)\n",
    "    fig, ax = pitch.draw()\n",
    "\n",
    "    fig.patch.set_facecolor(background_color)\n",
    "\n",
    "    if not player_goal_shots.empty:\n",
    "        pitch.scatter(player_goal_shots.x, player_goal_shots.y, ax=ax, marker='football', s=200)\n",
    "    if not player_non_goal_shots.empty:\n",
    "        pitch.scatter(player_non_goal_shots.x, player_non_goal_shots.y, ax=ax, alpha=0.6, color='black')\n",
    "\n",
    "    # Fetch and plot the home team image (logo)\n",
    "    response = requests.get(player_img_url)\n",
    "    img_data = Image.open(BytesIO(response.content))\n",
    "    ax_logo = fig.add_axes([0, 0.95, 0.1, 0.1])  # [x, y, Width, Height]\n",
    "    ax_logo.imshow(img_data)\n",
    "    ax_logo.axis(False)\n",
    "\n",
    "    fig.text(0.1, 1, f'Tiros {pomFM} vs {against_name}', fontsize=14, weight='bold', fontfamily=font, color=title_color)\n",
    "    fig.text(0.1, 0.95, f'{home_name} vs {away_name} | {round}', fontsize=12, fontfamily=font, color=sub_text_color)\n",
    "\n",
    "    fig.text(.25, 0.1, \"@3zavalam\", fontsize=10, ha='right', fontfamily=font, color=text_color)\n",
    "    fig.text(.75, 0.1, \" Data: SofaScore y FotMob\", fontsize=10, ha='center', fontfamily=font, color=text_color)\n",
    "\n",
    "    # Replace \"/\" with \"-\" in the season string\n",
    "    season = season.replace(\"/\", \"-\")\n",
    "    # Create the directory path\n",
    "    directory = os.path.join(\"output\", \"match\", league, season, round, f'{home_name}_{away_name}')\n",
    "    # Check if the directory exists, if not, create it\n",
    "    if not os.path.exists(directory):\n",
    "        os.makedirs(directory)\n",
    "    # Define the file path\n",
    "    file_path_player = os.path.join(directory, f\"tiros_{pomFM}.png\")\n",
    "    plt.savefig(file_path_player, bbox_inches='tight') \n",
    "    \n",
    "    plt.close()\n",
    "\n",
    "    return file_path_player"
   ]
  },
  {
   "cell_type": "markdown",
   "metadata": {},
   "source": [
    "### Team Shots"
   ]
  },
  {
   "cell_type": "code",
   "execution_count": null,
   "metadata": {},
   "outputs": [],
   "source": [
    "# Contar el número de own goals del equipo home y visitante\n",
    "away_own_goals_count = away_shots[away_shots['isOwnGoal'] == True]['isOwnGoal'].count()\n",
    "home_own_goals_count = home_shots[home_shots['isOwnGoal'] == True]['isOwnGoal'].count()\n",
    "\n",
    "# Restar el número de own goals del equipo contrario\n",
    "away_goals = (away_shots[away_shots['eventType'] == 'Goal']['eventType'].count() - away_own_goals_count) + home_own_goals_count\n",
    "home_goals = (home_shots[home_shots['eventType'] == 'Goal']['eventType'].count() - home_own_goals_count) + away_own_goals_count"
   ]
  },
  {
   "cell_type": "code",
   "execution_count": null,
   "metadata": {},
   "outputs": [],
   "source": [
    "\"\"\" Shots of the home team\"\"\"\n",
    "def homeShots(season):\n",
    "    pitch = VerticalPitch(pitch_type='custom', pitch_length=105, pitch_width=68, half=True, pitch_color=background_color)\n",
    "    fig, ax = pitch.draw()\n",
    "\n",
    "    fig.patch.set_facecolor(background_color)\n",
    "\n",
    "    if not home_goal_shots.empty:\n",
    "        pitch.scatter(home_goal_shots.x, home_goal_shots.y, ax=ax, marker='football', s=200)\n",
    "    if not home_non_goal_shots.empty:\n",
    "        pitch.scatter(home_non_goal_shots.x, home_non_goal_shots.y, ax=ax, alpha=0.6, label=home_name, color=home_color)\n",
    "\n",
    "    # Fetch and plot the home team image (logo)\n",
    "    response = requests.get(home_img_url)\n",
    "    img_data = Image.open(BytesIO(response.content))\n",
    "    ax_logo = fig.add_axes([0, 0.95, 0.1, 0.1])  # [x, y, Width, Height]\n",
    "    ax_logo.imshow(img_data)\n",
    "    ax_logo.axis(False)\n",
    "\n",
    "    fig.text(0.1, 1, f'Tiros {home_name} vs {away_name}', fontsize=16, weight='bold', fontfamily=font, color=text_color)\n",
    "    fig.text(0.1, 0.95, f'{home_name} vs {away_name} | {round}', fontsize=13, fontfamily=font, color=sub_text_color)\n",
    "\n",
    "    fig.text(.25, 0.1, \"@3zavalam\", fontsize=10, ha='right', fontfamily=font, color=text_color)\n",
    "    fig.text(.75, 0.1, \" Data: SofaScore y FotMob\", fontsize=10, ha='center', fontfamily=font, color=text_color)\n",
    "\n",
    "    # Data about the shots\n",
    "    fig.text(.92, .6, f'{home_data['xG']}', fontsize=14, fontfamily=font, weight='bold', color=text_color)\n",
    "    fig.text(1, .6, 'xG', fontfamily=font, color=text_color, fontsize=14)\n",
    "\n",
    "    fig.text(.92, .5, f'{home_goals}', fontsize=14, fontfamily=font, weight='bold', color=text_color)\n",
    "    fig.text(1, .5, 'Goles', fontfamily=font, color=text_color, fontsize=14)\n",
    "\n",
    "    fig.text(.92, .4, f'{home_shots['eventType'].count()}', fontsize=14, fontfamily=font,  weight='bold', color=text_color)\n",
    "    fig.text(1, .4, 'Tiros', fontfamily=font, color=text_color, fontsize=14)\n",
    "    \n",
    "    # Replace \"/\" with \"-\" in the season string\n",
    "    season = season.replace(\"/\", \"-\")\n",
    "    # Create the directory path\n",
    "    directory = os.path.join(\"output\", \"match\", league, season, round, f'{home_name}_{away_name}')\n",
    "    # Check if the directory exists, if not, create it\n",
    "    if not os.path.exists(directory):\n",
    "        os.makedirs(directory)\n",
    "    # Define the file path\n",
    "    file_path_homeShots = os.path.join(directory, f\"tiros_{home_name}.png\")\n",
    "    plt.savefig(file_path_homeShots, bbox_inches='tight') \n",
    "    plt.close()\n",
    "\n",
    "    return file_path_homeShots"
   ]
  },
  {
   "cell_type": "code",
   "execution_count": null,
   "metadata": {},
   "outputs": [],
   "source": [
    "\"\"\" Shots of the Away team\"\"\"\n",
    "def awayShots(season):\n",
    "    pitch = VerticalPitch(pitch_type='custom', pitch_length=105, pitch_width=68, half=True, pitch_color=background_color)\n",
    "    fig, ax = pitch.draw()\n",
    "\n",
    "    fig.patch.set_facecolor(background_color)\n",
    "\n",
    "    if not away_goal_shots.empty:\n",
    "        pitch.scatter(away_goal_shots.x, away_goal_shots.y, ax=ax, marker='football', s=200)\n",
    "    if not away_non_goal_shots.empty:\n",
    "        pitch.scatter(away_non_goal_shots.x, away_non_goal_shots.y, ax=ax, alpha=0.6, label=away_name, color=away_color)\n",
    "\n",
    "    # Fetch and plot the home team image (logo)\n",
    "    response = requests.get(away_img_url)\n",
    "    img_data = Image.open(BytesIO(response.content))\n",
    "    ax_logo = fig.add_axes([0, 0.95, 0.1, 0.1])  # [x, y, Width, Height]\n",
    "    ax_logo.imshow(img_data)\n",
    "    ax_logo.axis(False)\n",
    "\n",
    "    fig.text(0.1, 1, f'Tiros {away_name} vs {home_name}', fontsize=16, weight='bold', fontfamily=font, color=text_color)\n",
    "    fig.text(0.1, 0.95, f'{home_name} vs {away_name} | {round}', fontsize=13, fontfamily=font, color=sub_text_color)\n",
    "\n",
    "    fig.text(.25, 0.1, \"@3zavalam\", fontsize=10, ha='right', fontfamily=font, color=text_color)\n",
    "    fig.text(.75, 0.1, \" Data: SofaScore y FotMob\", fontsize=10, ha='center', fontfamily=font, color=text_color)\n",
    "\n",
    "    # Data about the shots\n",
    "    fig.text(.92, .6, f\"{away_data['xG']}\", fontsize=14, fontfamily=font, weight='bold', color=text_color)\n",
    "    fig.text(1, .6, 'xG', fontfamily=font, color=text_color, fontsize=14)\n",
    "\n",
    "    fig.text(.92, .5, f'{away_goals}', fontsize=14, fontfamily=font, weight='bold', color=text_color)\n",
    "    fig.text(1, .5, 'Goles', fontfamily=font, color=text_color, fontsize=14)\n",
    "\n",
    "    fig.text(.92, .4, f'{away_shots['eventType'].count()}', fontsize=14, fontfamily=font,  weight='bold', color=text_color)\n",
    "    fig.text(1, .4, 'Tiros', fontfamily=font, color=text_color, fontsize=14)\n",
    "\n",
    "\n",
    "    # Replace \"/\" with \"-\" in the season string\n",
    "    season = season.replace(\"/\", \"-\")\n",
    "    # Create the directory path\n",
    "    directory = os.path.join(\"output\", \"match\", league, season, round, f'{home_name}_{away_name}')\n",
    "    # Check if the directory exists, if not, create it\n",
    "    if not os.path.exists(directory):\n",
    "        os.makedirs(directory)\n",
    "    # Define the file path\n",
    "    file_path_awayShots = os.path.join(directory, f\"tiros_{away_name}.png\")\n",
    "    plt.savefig(file_path_awayShots, bbox_inches='tight') \n",
    "    plt.close()\n",
    "    \n",
    "    return file_path_awayShots"
   ]
  },
  {
   "cell_type": "markdown",
   "metadata": {},
   "source": [
    "### Dashboard"
   ]
  },
  {
   "cell_type": "code",
   "execution_count": null,
   "metadata": {},
   "outputs": [],
   "source": [
    "def dashboard(season):\n",
    "    fig = plt.figure(figsize=(16, 9), constrained_layout=True)\n",
    "    gs = fig.add_gridspec(nrows=6, ncols=9)\n",
    "    fig.set_facecolor(background_color)\n",
    "\n",
    "    # Plotting Game Data\n",
    "    ax1 = fig.add_subplot(gs[0, 1:7])\n",
    "    if pen_flag == 'Pen':\n",
    "        ax1.text(0.5, 0.70, f'{home_name} ({home_penalties}) {score} ({away_penalties}) {away_name}', weight='bold', fontsize=25, ha='center', fontfamily=font, color=title_color)\n",
    "    else:\n",
    "        ax1.text(0.5, 0.70, f'{home_name} {score} {away_name}', weight='bold', fontsize=30, ha='center', fontfamily=font, color=title_color)\n",
    "    ax1.text(0.5, 0.25, f'{league}: {round}', fontsize=15, ha='center', fontfamily=font, color=sub_text_color)\n",
    "    ax1.axis(False)\n",
    "\n",
    "    # Fetch and plot the home team image\n",
    "    ax10 = fig.add_subplot(gs[0, :1])\n",
    "    response = requests.get(home_img_url)\n",
    "    img_data = Image.open(BytesIO(response.content))\n",
    "    ax10.imshow(img_data)\n",
    "    ax10.axis(False)\n",
    "\n",
    "    # Fetch and plot the away team image\n",
    "    ax11 = fig.add_subplot(gs[0, 7:8])\n",
    "    response = requests.get(away_img_url)\n",
    "    img_data = Image.open(BytesIO(response.content))\n",
    "    ax11.imshow(img_data)\n",
    "    ax11.axis(False)\n",
    "\n",
    "    # Plotting Game Stats\n",
    "    ax2 = fig.add_subplot(gs[1:3, :3])  \n",
    "    # Crear la figura y los subgráficos dentro de ax2\n",
    "    axs = [ax2]  # Utilizar una lista para axs para que coincida con la estructura existente\n",
    "    # Bucle sobre todas las estadísticas\n",
    "    for i, stat in enumerate(all_stats):\n",
    "        # Calcular la suma total de la estadística\n",
    "        total_stat = home_data[stat] + away_data[stat]\n",
    "        \n",
    "        # Calcular los porcentajes de contribución del equipo home y visitante\n",
    "        porcentaje_home = home_data[stat] / total_stat\n",
    "        porcentaje_visitante = away_data[stat] / total_stat\n",
    "        \n",
    "        # Crear la barra horizontal con dos colores\n",
    "        ax2.barh(i, porcentaje_home, color=home_color, height=0.5)\n",
    "        ax2.barh(i, porcentaje_visitante, color=away_color, left=porcentaje_home, height=0.5)\n",
    "        \n",
    "        # Añadir el valor numérico para el equipo home y visitante\n",
    "        ax2.text(0.1, i, f'{home_data[stat]}', fontsize=14, ha='center', va='center', color='white', fontfamily=font)\n",
    "        ax2.text(0.9, i, f'{away_data[stat]}', fontsize=14, ha='center', va='center', color='white', fontfamily=font)\n",
    "        ax2.text(0.5, i, stat, fontsize=14, ha='center', va='center', color='white', fontfamily=font)\n",
    "    ax2.axis(False)\n",
    "\n",
    "    ax3 = fig.add_subplot(gs[1:3, 3:8])\n",
    "\n",
    "    # Plot the home and away match momentum\n",
    "    ax3.bar(match_momentum_home.minute, match_momentum_home.value, color=home_color)\n",
    "    ax3.bar(match_momentum_visit.minute, match_momentum_visit.value, color=away_color)\n",
    "\n",
    "    # Add text annotations for minutes 1, 46, 90, and 120 if they exist\n",
    "    lowest_value = min(match_momentum_home.value.min(), match_momentum_visit.value.min())\n",
    "    ax3.text(1, lowest_value - 5, '0\\'', ha='right', va='center', weight='bold', fontfamily=font, color=text_color)\n",
    "    ax3.text(46, lowest_value - 5, 'HT', ha='center', va='center', weight='bold', fontfamily=font, color=text_color)\n",
    "    ax3.text(90, lowest_value - 5, \"90'\", ha='center', va='center', weight='bold', fontfamily=font, color=text_color)\n",
    "\n",
    "    # Check if the 120th minute exists and plot it if it does\n",
    "    if 120 in match_momentum_home.minute.values or 120 in match_momentum_visit.minute.values:\n",
    "        ax3.text(120, lowest_value - 5, \"120'\", ha='center', va='center', weight='bold', fontfamily=font, color=text_color)\n",
    "\n",
    "    # Set the title and hide axis\n",
    "    ax3.set_title('Match Momentum', weight='bold')\n",
    "    ax3.axis(False)\n",
    "\n",
    "\n",
    "    ax4 = fig.add_subplot(gs[3:6, :3])\n",
    "    y_start = 0.6\n",
    "    # Plot the name and position\n",
    "    ax4.text(0.3, 0.8, f'{pomFM}', weight='bold', fontsize=20, fontfamily=font, color=text_color)\n",
    "    ax4.text(0.3, 0.75, f'{pom_position}, {pom_team}', fontsize=10, fontfamily=font, color=text_color)\n",
    "    # Iterate over keys and values to plot them horizontally\n",
    "    for i, (key, value) in enumerate(zip(keys, values)):\n",
    "        # Calculate x-coordinate for the current key-value pair\n",
    "        x_key = 0\n",
    "        x_value = 0.6\n",
    "        # Calculate y-coordinate for the current key-value pair\n",
    "        y = y_start - i * 0.1\n",
    "        # Make the key bold and plot it\n",
    "        ax4.text(x_key, y, f'{key}:', fontsize=12, fontfamily=font, color=text_color)\n",
    "        # Plot the value\n",
    "        ax4.text(x_value, y, f'{value}', fontsize=12, weight= 'bold', fontfamily=font, color=text_color)\n",
    "    ax4.axis(False)\n",
    "\n",
    "    ax5 = fig.add_subplot(gs[3:4, :1])\n",
    "    response = requests.get(pom_img_url)\n",
    "    img_data = Image.open(BytesIO(response.content))\n",
    "    ax5.imshow(img_data)\n",
    "    ax5.axis(False)\n",
    "\n",
    "    ax6 = fig.add_subplot(gs[3:, 3:8])\n",
    "    ax6.text(26.25, 5,f'{home_name} shots', color=home_color, ha='center', fontsize=12, fontfamily=font)\n",
    "    ax6.text(78.75, 5,f'{away_name} shots', color=away_color, ha='center', fontsize=12, fontfamily=font)\n",
    "    pitch = Pitch(pitch_type='custom', pitch_length=105, pitch_width=68)\n",
    "    pitch.draw(ax=ax6)\n",
    "    if not home_goal_shots.empty:\n",
    "        pitch.scatter(105-home_goal_shots.x, 68-home_goal_shots.y, ax=ax6, marker='football', s=200)\n",
    "    if not away_goal_shots.empty:\n",
    "        pitch.scatter(away_goal_shots.x, away_goal_shots.y, ax=ax6, marker='football', s=200)\n",
    "    if not home_non_goal_shots.empty:\n",
    "        pitch.scatter(105-home_non_goal_shots.x, 68-home_non_goal_shots.y, ax=ax6, alpha=0.6, label=home_name, color=home_color)\n",
    "    if not away_non_goal_shots.empty:\n",
    "        pitch.scatter(away_non_goal_shots.x, away_non_goal_shots.y, ax=ax6, alpha=0.6, label=away_name, color=away_color)\n",
    "    #ax6.legend(loc='lower left')\n",
    "    ax6.axis(False)\n",
    "\n",
    "    fig.text(.63, 0.01, \"Made by: @3zavalam     |    Data: SofaScore y FotMob\", fontsize=10, ha='center', fontfamily=font, color=text_color)\n",
    "\n",
    "    # Replace \"/\" with \"-\" in the season string\n",
    "    season = season.replace(\"/\", \"-\")\n",
    "    # Create the directory path\n",
    "    directory = os.path.join(\"output\", \"match\", league, season, round, f'{home_name}_{away_name}')\n",
    "    # Check if the directory exists, if not, create it\n",
    "    if not os.path.exists(directory):\n",
    "        os.makedirs(directory)\n",
    "    # Define the file path\n",
    "    file_path_game = os.path.join(directory, f\"dash_{home_name}_{away_name}.png\")\n",
    "    plt.savefig(file_path_game, bbox_inches='tight')\n",
    "\n",
    "    plt.close()\n",
    "    return file_path_game"
   ]
  },
  {
   "cell_type": "markdown",
   "metadata": {},
   "source": [
    "### Heatmap"
   ]
  },
  {
   "cell_type": "code",
   "execution_count": null,
   "metadata": {},
   "outputs": [],
   "source": [
    "def heatmap(season):\n",
    "    fig, ax = plt.subplots(figsize=(16,9))\n",
    "    fig.set_facecolor(color=background_color)\n",
    "\n",
    "    cmap = 'hot'\n",
    "    pitch = Pitch(pitch_type='opta', pitch_color=background_color, line_color=sub_text_color)\n",
    "    pitch.draw(ax=ax)\n",
    "    pitch.kdeplot(pom_heatmap.x, pom_heatmap.y, ax=ax,\n",
    "                levels=100,\n",
    "                shade=True,\n",
    "                zorder=-1,\n",
    "                shade_lowest=True,\n",
    "                cmap='OrRd'\n",
    "    )\n",
    "    plt.gca()\n",
    "\n",
    "    ax.set_title(f'{pomSS} heatmap vs {opponent_team}', fontsize=20, fontfamily=font, color=title_color, weight='bold')\n",
    "\n",
    "    arrow = FancyArrowPatch((40, -2), (60, -2), mutation_scale=20, color=sub_text_color, arrowstyle='-|>')\n",
    "    ax.add_patch(arrow)\n",
    "    ax.text(50, -5, 'Ataque', fontsize=12, ha='center', fontfamily=font, color=sub_text_color)\n",
    "    ax.text(100, -3, \"@3zavalam | Data: SofaScore y FotMob\", fontsize=10, ha='right', fontfamily=font, color=text_color)\n",
    "\n",
    "    # Replace \"/\" with \"-\" in the season string\n",
    "    season = season.replace(\"/\", \"-\")\n",
    "    # Create the directory path\n",
    "    directory = os.path.join(\"output\", \"match\", league, season, round, f'{home_name}_{away_name}')\n",
    "    # Check if the directory exists, if not, create it\n",
    "    if not os.path.exists(directory):\n",
    "        os.makedirs(directory)\n",
    "    # Define the file path\n",
    "    file_path_game = os.path.join(directory, f\"heatmap_{pomSS}.png\")\n",
    "    plt.savefig(file_path_game, bbox_inches='tight')\n",
    "\n",
    "    plt.close()\n",
    "    return file_path_game"
   ]
  },
  {
   "cell_type": "code",
   "execution_count": null,
   "metadata": {},
   "outputs": [
    {
     "name": "stderr",
     "output_type": "stream",
     "text": [
      "/Library/Frameworks/Python.framework/Versions/3.12/lib/python3.12/site-packages/mplsoccer/_pitch_plot.py:170: FutureWarning: \n",
      "\n",
      "`shade` is now deprecated in favor of `fill`; setting `fill=True`.\n",
      "This will become an error in seaborn v0.14.0; please update your code.\n",
      "\n",
      "  return sns.kdeplot(x=x, y=y, ax=ax, clip=self.kde_clip, **kwargs)\n"
     ]
    },
    {
     "data": {
      "text/plain": [
       "'output/match/Eredivisie/2023-2024/Jornada 32/Feyenoord_PEC Zwolle/heatmap_Santiago Giménez.png'"
      ]
     },
     "execution_count": 27,
     "metadata": {},
     "output_type": "execute_result"
    }
   ],
   "source": [
    "heatmap(season=season)"
   ]
  },
  {
   "cell_type": "markdown",
   "metadata": {},
   "source": [
    "### Calling Functions"
   ]
  },
  {
   "cell_type": "code",
   "execution_count": null,
   "metadata": {},
   "outputs": [
    {
     "name": "stderr",
     "output_type": "stream",
     "text": [
      "/Library/Frameworks/Python.framework/Versions/3.12/lib/python3.12/site-packages/mplsoccer/_pitch_plot.py:170: FutureWarning: \n",
      "\n",
      "`shade` is now deprecated in favor of `fill`; setting `fill=True`.\n",
      "This will become an error in seaborn v0.14.0; please update your code.\n",
      "\n",
      "  return sns.kdeplot(x=x, y=y, ax=ax, clip=self.kde_clip, **kwargs)\n"
     ]
    }
   ],
   "source": [
    "# Shots paths\n",
    "file_path_player = None\n",
    "if pom_position == 'Attacker' or pom_position == 'Midfielder':\n",
    "    file_path_player = playerShots(season=season)\n",
    "file_path_homeShots = homeShots(season=season)\n",
    "file_path_awayShots = awayShots(season=season)\n",
    "\n",
    "file_paths_shots = [file_path_player, file_path_homeShots, file_path_awayShots]\n",
    "file_path_dashboard = dashboard(season=season)\n",
    "file_path_heatmap = heatmap(season=season)"
   ]
  }
 ],
 "metadata": {
  "kernelspec": {
   "display_name": "Python 3",
   "language": "python",
   "name": "python3"
  },
  "language_info": {
   "codemirror_mode": {
    "name": "ipython",
    "version": 3
   },
   "file_extension": ".py",
   "mimetype": "text/x-python",
   "name": "python",
   "nbconvert_exporter": "python",
   "pygments_lexer": "ipython3",
   "version": "3.12.2"
  }
 },
 "nbformat": 4,
 "nbformat_minor": 2
}
